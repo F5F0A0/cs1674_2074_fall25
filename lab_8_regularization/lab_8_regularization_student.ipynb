{
  "cells": [
    {
      "cell_type": "markdown",
      "metadata": {
        "execution": {},
        "id": "OFp0ysHL_bCB"
      },
      "source": [
        "# Lab 8: Regularization\n",
        "\n",
        "**By Neuromatch Academy** and adapted by Prof. Nils Murrugarra from Univ of Pittsburgh.\n",
        "\n",
        "\n",
        "__Content creators:__ Ravi Teja Konkimalla, Mohitrajhu Lingan Kumaraian, Kevin Machado Gamboa, Kelson Shilling-Scrivo, Lyle Ungar\n",
        "\n",
        "__Content reviewers:__ Piyush Chauhan, Siwei Bai, Kelson Shilling-Scrivo\n",
        "\n",
        "__Content editors:__ Roberto Guidotti, Spiros Chavlis\n",
        "\n",
        "__Production editors:__ Saeed Salehi, Gagana B, Spiros Chavlis"
      ]
    },
    {
      "cell_type": "markdown",
      "metadata": {
        "execution": {},
        "id": "ZcAQszE0_bCD"
      },
      "source": [
        "---\n",
        "# Tutorial Objectives\n",
        "\n",
        "1. Regularization as shrinkage of overparameterized models: L1 and L2\n",
        "2. Regularization by Dropout\n",
        "3. Regularization by Data Augmentation\n",
        "4. Perils of Hyper-Parameter Tuning\n",
        "5. Rethinking generalization"
      ]
    },
    {
      "cell_type": "markdown",
      "metadata": {
        "execution": {},
        "id": "4Z1sx4AS_bCD"
      },
      "source": [
        "---\n",
        "# Setup\n",
        "Note that some of the code for today can take up to an hour to run. We have therefore \"hidden\" that code and shown the resulting outputs."
      ]
    },
    {
      "cell_type": "code",
      "execution_count": 18,
      "metadata": {
        "execution": {},
        "id": "TR6K2STR_bCD"
      },
      "outputs": [],
      "source": [
        "# @title Install dependencies\n",
        "\n",
        "# @markdown **WARNING**: There may be *errors* and/or *warnings* reported during the installation. However, they should be ignored.\n",
        "\n",
        "!pip install imageio --quiet\n",
        "!pip install imageio-ffmpeg --quiet"
      ]
    },
    {
      "cell_type": "code",
      "execution_count": 19,
      "metadata": {
        "execution": {},
        "id": "gdauVOQf_bCD"
      },
      "outputs": [],
      "source": [
        "# @title Install and import feedback gadget\n",
        "\n",
        "!pip3 install vibecheck datatops --quiet\n",
        "\n",
        "from vibecheck import DatatopsContentReviewContainer\n",
        "def content_review(notebook_section: str):\n",
        "    return DatatopsContentReviewContainer(\n",
        "        \"\",  # No text prompt\n",
        "        notebook_section,\n",
        "        {\n",
        "            \"url\": \"https://pmyvdlilci.execute-api.us-east-1.amazonaws.com/klab\",\n",
        "            \"name\": \"neuromatch_dl\",\n",
        "            \"user_key\": \"f379rz8y\",\n",
        "        },\n",
        "    ).render()\n",
        "\n",
        "\n",
        "feedback_prefix = \"W2D1_T2\""
      ]
    },
    {
      "cell_type": "code",
      "execution_count": 20,
      "metadata": {
        "execution": {},
        "id": "lMfV6rRh_bCE"
      },
      "outputs": [],
      "source": [
        "# Imports\n",
        "import copy\n",
        "import torch\n",
        "import random\n",
        "import pathlib\n",
        "\n",
        "import numpy as np\n",
        "import matplotlib.pyplot as plt\n",
        "import matplotlib.animation as animation\n",
        "\n",
        "import torch.nn as nn\n",
        "import torch.optim as optim\n",
        "import torch.nn.functional as F\n",
        "\n",
        "from torchvision import transforms\n",
        "from torchvision.datasets import ImageFolder\n",
        "\n",
        "from tqdm.auto import tqdm\n",
        "from IPython.display import HTML, display"
      ]
    },
    {
      "cell_type": "code",
      "execution_count": 21,
      "metadata": {
        "cellView": "form",
        "execution": {},
        "id": "nCyU0uqF_bCE"
      },
      "outputs": [],
      "source": [
        "# @title Figure Settings\n",
        "import logging\n",
        "logging.getLogger('matplotlib.font_manager').disabled = True\n",
        "\n",
        "import ipywidgets as widgets\n",
        "%matplotlib inline\n",
        "%config InlineBackend.figure_format = 'retina'\n",
        "plt.style.use(\"https://raw.githubusercontent.com/NeuromatchAcademy/content-creation/main/nma.mplstyle\")"
      ]
    },
    {
      "cell_type": "code",
      "execution_count": 22,
      "metadata": {
        "cellView": "form",
        "execution": {},
        "id": "Kyrf6mOv_bCE",
        "colab": {
          "base_uri": "https://localhost:8080/"
        },
        "outputId": "1a1b4092-99f6-401f-d53f-7b6ce7833f84"
      },
      "outputs": [
        {
          "output_type": "stream",
          "name": "stdout",
          "text": [
            "Start downloading and unzipping `AnimalFaces` dataset...\n",
            "Download completed.\n"
          ]
        }
      ],
      "source": [
        "# @title Loading Animal Faces Data\n",
        "import requests, os\n",
        "from zipfile import ZipFile\n",
        "\n",
        "print(\"Start downloading and unzipping `AnimalFaces` dataset...\")\n",
        "name = 'afhq'\n",
        "fname = f\"{name}.zip\"\n",
        "url = f\"https://osf.io/kgfvj/download\"\n",
        "\n",
        "if not os.path.exists(fname):\n",
        "  r = requests.get(url, allow_redirects=True)\n",
        "  with open(fname, 'wb') as fh:\n",
        "    fh.write(r.content)\n",
        "\n",
        "  if os.path.exists(fname):\n",
        "    with ZipFile(fname, 'r') as zfile:\n",
        "      zfile.extractall(f\".\")\n",
        "      os.remove(fname)\n",
        "\n",
        "print(\"Download completed.\")"
      ]
    },
    {
      "cell_type": "code",
      "execution_count": 23,
      "metadata": {
        "cellView": "form",
        "execution": {},
        "id": "X-4xtvA0_bCE",
        "colab": {
          "base_uri": "https://localhost:8080/"
        },
        "outputId": "4c7fd4c0-182d-4e5f-caf3-dfb8358a99ae"
      },
      "outputs": [
        {
          "output_type": "stream",
          "name": "stdout",
          "text": [
            "Start downloading and unzipping `Randomized AnimalFaces` dataset...\n",
            "Download completed.\n"
          ]
        }
      ],
      "source": [
        "# @title Loading Animal Faces Randomized data\n",
        "\n",
        "print(\"Start downloading and unzipping `Randomized AnimalFaces` dataset...\")\n",
        "\n",
        "names = ['afhq_random_32x32', 'afhq_10_32x32']\n",
        "urls = [\"https://osf.io/9sj7p/download\",\n",
        "        \"https://osf.io/wvgkq/download\"]\n",
        "\n",
        "\n",
        "for i, name in enumerate(names):\n",
        "  url = urls[i]\n",
        "  fname = f\"{name}.zip\"\n",
        "\n",
        "  if not os.path.exists(fname):\n",
        "    r = requests.get(url, allow_redirects=True)\n",
        "    with open(fname, 'wb') as fh:\n",
        "      fh.write(r.content)\n",
        "\n",
        "    if os.path.exists(fname):\n",
        "      with ZipFile(fname, 'r') as zfile:\n",
        "        zfile.extractall(f\".\")\n",
        "        os.remove(fname)\n",
        "\n",
        "print(\"Download completed.\")"
      ]
    },
    {
      "cell_type": "code",
      "execution_count": 24,
      "metadata": {
        "cellView": "form",
        "execution": {},
        "id": "-EOZSODW_bCE"
      },
      "outputs": [],
      "source": [
        "# @title Plotting functions\n",
        "\n",
        "def imshow(img):\n",
        "  \"\"\"\n",
        "  Display unnormalized image\n",
        "\n",
        "  Args:\n",
        "    img: np.ndarray\n",
        "      Datapoint to visualize\n",
        "\n",
        "  Returns:\n",
        "    Nothing\n",
        "  \"\"\"\n",
        "  img = img / 2 + 0.5  # Unnormalize\n",
        "  npimg = img.numpy()\n",
        "  plt.imshow(np.transpose(npimg, (1, 2, 0)))\n",
        "  plt.axis(False)\n",
        "  plt.show()\n",
        "\n",
        "\n",
        "def plot_weights(norm, labels, ws, title='Weight Size Measurement'):\n",
        "  \"\"\"\n",
        "  Plot of weight size measurement [norm value vs layer]\n",
        "\n",
        "  Args:\n",
        "    norm: float\n",
        "      Norm values\n",
        "    labels: list\n",
        "      Targets\n",
        "    ws: list\n",
        "      Weights\n",
        "    title: string\n",
        "      Title of plot\n",
        "\n",
        "  Returns:\n",
        "    Nothing\n",
        "  \"\"\"\n",
        "  plt.figure(figsize=[8, 6])\n",
        "  plt.title(title)\n",
        "  plt.ylabel('Frobenius Norm Value')\n",
        "  plt.xlabel('Model Layers')\n",
        "  plt.bar(labels, ws)\n",
        "  plt.axhline(y=norm,\n",
        "              linewidth=1,\n",
        "              color='r',\n",
        "              ls='--',\n",
        "              label='Total Model F-Norm')\n",
        "  plt.legend()\n",
        "  plt.show()\n",
        "\n",
        "\n",
        "def visualize_data(dataloader):\n",
        "  \"\"\"\n",
        "  Helper function to visualize data\n",
        "\n",
        "  Args:\n",
        "    dataloader: torch.tensor\n",
        "      Dataloader to visualize\n",
        "\n",
        "  Returns:\n",
        "    Nothing\n",
        "  \"\"\"\n",
        "  for idx, (data,label) in enumerate(dataloader):\n",
        "    plt.figure(idx)\n",
        "    # Choose the datapoint you would like to visualize\n",
        "    index = 22\n",
        "\n",
        "    # Choose that datapoint using index and permute the dimensions\n",
        "    # and bring the pixel values between [0,1]\n",
        "    data = data[index].permute(1, 2, 0) * \\\n",
        "           torch.tensor([0.5, 0.5, 0.5]) + \\\n",
        "           torch.tensor([0.5, 0.5, 0.5])\n",
        "\n",
        "    # Convert the torch tensor into numpy\n",
        "    data = data.numpy()\n",
        "\n",
        "    plt.imshow(data)\n",
        "    plt.axis(False)\n",
        "    image_class = classes[label[index].item()]\n",
        "    print(f'The image belongs to : {image_class}')\n",
        "\n",
        "  plt.show()"
      ]
    },
    {
      "cell_type": "code",
      "execution_count": 25,
      "metadata": {
        "cellView": "form",
        "execution": {},
        "id": "-I3qIWqn_bCE"
      },
      "outputs": [],
      "source": [
        "# @title Helper functions\n",
        "\n",
        "class AnimalNet(nn.Module):\n",
        "  \"\"\"\n",
        "  Network Class - Animal Faces with following structure:\n",
        "  nn.Linear(3 * 32 * 32, 128) # Fully connected layer 1\n",
        "  nn.Linear(128, 32) # Fully connected layer 2\n",
        "  nn.Linear(32, 3) # Fully connected layer 3\n",
        "  \"\"\"\n",
        "\n",
        "  def __init__(self):\n",
        "    \"\"\"\n",
        "    Initialize parameters of AnimalNet\n",
        "\n",
        "    Args:\n",
        "      None\n",
        "\n",
        "    Returns:\n",
        "      Nothing\n",
        "    \"\"\"\n",
        "    super(AnimalNet, self).__init__()\n",
        "    self.fc1 = nn.Linear(3 * 32 * 32, 128)\n",
        "    self.fc2 = nn.Linear(128, 32)\n",
        "    self.fc3 = nn.Linear(32, 3)\n",
        "\n",
        "  def forward(self, x):\n",
        "    \"\"\"\n",
        "    Forward Pass of AnimalNet\n",
        "\n",
        "    Args:\n",
        "      x: torch.tensor\n",
        "        Input features\n",
        "\n",
        "    Returns:\n",
        "      output: torch.tensor\n",
        "        Outputs/Predictions\n",
        "    \"\"\"\n",
        "    x = x.view(x.shape[0], -1)\n",
        "    x = F.relu(self.fc1(x))\n",
        "    x = F.relu(self.fc2(x))\n",
        "    x = self.fc3(x)\n",
        "    output = F.log_softmax(x, dim=1)\n",
        "    return output\n",
        "\n",
        "\n",
        "class Net(nn.Module):\n",
        "  \"\"\"\n",
        "  Network Class - 2D with following structure\n",
        "  nn.Linear(1, 300) + leaky_relu(self.fc1(x)) # First fully connected layer\n",
        "  nn.Linear(300, 500) + leaky_relu(self.fc2(x)) # Second fully connected layer\n",
        "  nn.Linear(500, 1) # Final fully connected layer\n",
        "  \"\"\"\n",
        "\n",
        "  def __init__(self):\n",
        "    \"\"\"\n",
        "    Initialize parameters of Net\n",
        "\n",
        "    Args:\n",
        "      None\n",
        "\n",
        "    Returns:\n",
        "      Nothing\n",
        "    \"\"\"\n",
        "    super(Net, self).__init__()\n",
        "\n",
        "    self.fc1 = nn.Linear(1, 300)\n",
        "    self.fc2 = nn.Linear(300, 500)\n",
        "    self.fc3 = nn.Linear(500, 1)\n",
        "\n",
        "  def forward(self, x):\n",
        "    \"\"\"\n",
        "    Forward pass of Net\n",
        "\n",
        "    Args:\n",
        "      x: torch.tensor\n",
        "        Input features\n",
        "\n",
        "    Returns:\n",
        "      x: torch.tensor\n",
        "        Output/Predictions\n",
        "    \"\"\"\n",
        "    x = F.leaky_relu(self.fc1(x))\n",
        "    x = F.leaky_relu(self.fc2(x))\n",
        "    output = self.fc3(x)\n",
        "    return output\n",
        "\n",
        "\n",
        "class BigAnimalNet(nn.Module):\n",
        "  \"\"\"\n",
        "  Network Class - Animal Faces with following structure:\n",
        "  nn.Linear(3*32*32, 124) + leaky_relu(self.fc1(x)) # First fully connected layer\n",
        "  nn.Linear(124, 64) + leaky_relu(self.fc2(x)) # Second fully connected layer\n",
        "  nn.Linear(64, 3) # Final fully connected layer\n",
        "  \"\"\"\n",
        "\n",
        "  def __init__(self):\n",
        "    \"\"\"\n",
        "    Initialize parameters for BigAnimalNet\n",
        "\n",
        "    Args:\n",
        "      None\n",
        "\n",
        "    Returns:\n",
        "      Nothing\n",
        "    \"\"\"\n",
        "    super(BigAnimalNet, self).__init__()\n",
        "    self.fc1 = nn.Linear(3*32*32, 124)\n",
        "    self.fc2 = nn.Linear(124, 64)\n",
        "    self.fc3 = nn.Linear(64, 3)\n",
        "\n",
        "  def forward(self, x):\n",
        "    \"\"\"\n",
        "    Forward pass of BigAnimalNet\n",
        "\n",
        "    Args:\n",
        "      x: torch.tensor\n",
        "        Input features\n",
        "\n",
        "    Returns:\n",
        "      x: torch.tensor\n",
        "        Output/Predictions\n",
        "    \"\"\"\n",
        "    x = x.view(x.shape[0],-1)\n",
        "    x = F.leaky_relu(self.fc1(x))\n",
        "    x = F.leaky_relu(self.fc2(x))\n",
        "    x = self.fc3(x)\n",
        "    output = F.log_softmax(x, dim=1)\n",
        "    return output\n",
        "\n",
        "\n",
        "def train(args, model, train_loader, optimizer, epoch,\n",
        "          reg_function1=None, reg_function2=None, criterion=F.nll_loss):\n",
        "  \"\"\"\n",
        "  Trains the current input model using the data\n",
        "  from Train_loader and Updates parameters for a single pass\n",
        "\n",
        "  Args:\n",
        "    args: dictionary\n",
        "      Dictionary with epochs: 200, lr: 5e-3, momentum: 0.9, device: DEVICE\n",
        "    model: nn.module\n",
        "      Neural network instance\n",
        "    train_loader: torch.loader\n",
        "      Input dataset\n",
        "    optimizer: function\n",
        "      Optimizer\n",
        "    reg_function1: function\n",
        "      Regularisation function [default: None]\n",
        "    reg_function2: function\n",
        "      Regularisation function [default: None]\n",
        "    criterion: function\n",
        "      Specifies loss function [default: nll_loss]\n",
        "\n",
        "  Returns:\n",
        "    model: nn.module\n",
        "      Neural network instance post training\n",
        "  \"\"\"\n",
        "  device = args['device']\n",
        "  model.train()\n",
        "  for batch_idx, (data, target) in enumerate(train_loader):\n",
        "    data, target = data.to(device), target.to(device)\n",
        "    optimizer.zero_grad()\n",
        "    output = model(data)\n",
        "    # L1 regularization\n",
        "    if reg_function2 is None and reg_function1 is not None:\n",
        "      loss = criterion(output, target) + args['lambda1']*reg_function1(model)\n",
        "    # L2 regularization\n",
        "    elif reg_function1 is None and reg_function2 is not None:\n",
        "      loss = criterion(output, target) + args['lambda2']*reg_function2(model)\n",
        "    # No regularization\n",
        "    elif reg_function1 is None and reg_function2 is None:\n",
        "      loss = criterion(output, target)\n",
        "    # Both L1 and L2 regularizations\n",
        "    else:\n",
        "      loss = criterion(output, target) + args['lambda1']*reg_function1(model) + args['lambda2']*reg_function2(model)\n",
        "    loss.backward()\n",
        "    optimizer.step()\n",
        "\n",
        "  return model\n",
        "\n",
        "\n",
        "def test(model, test_loader, loader='Test', criterion=F.nll_loss,\n",
        "         device='cpu'):\n",
        "  \"\"\"\n",
        "  Tests the current model\n",
        "\n",
        "  Args:\n",
        "    model: nn.module\n",
        "      Neural network instance\n",
        "    device: string\n",
        "      GPU/CUDA if available, CPU otherwise\n",
        "    test_loader: torch.loader\n",
        "      Test dataset\n",
        "    criterion: function\n",
        "      Specifies loss function [default: nll_loss]\n",
        "\n",
        "  Returns:\n",
        "    test_loss: float\n",
        "      Test loss\n",
        "  \"\"\"\n",
        "  model.eval()\n",
        "  test_loss = 0\n",
        "  correct = 0\n",
        "  with torch.no_grad():\n",
        "    for data, target in test_loader:\n",
        "      data, target = data.to(device), target.to(device)\n",
        "      output = model(data)\n",
        "      test_loss += criterion(output, target, reduction='sum').item()  # sum up batch loss\n",
        "      pred = output.argmax(dim=1, keepdim=True)  # Get the index of the max log-probability\n",
        "      correct += pred.eq(target.view_as(pred)).sum().item()\n",
        "\n",
        "  test_loss /= len(test_loader.dataset)\n",
        "  return 100. * correct / len(test_loader.dataset)\n",
        "\n",
        "\n",
        "def main(args, model, train_loader, val_loader, test_data,\n",
        "         reg_function1=None, reg_function2=None, criterion=F.nll_loss):\n",
        "  \"\"\"\n",
        "  Trains the model with train_loader and\n",
        "  tests the learned model using val_loader\n",
        "\n",
        "  Args:\n",
        "    args: dictionary\n",
        "      Dictionary with epochs: 200, lr: 5e-3, momentum: 0.9, device: DEVICE\n",
        "    model: nn.module\n",
        "      Neural network instance\n",
        "    train_loader: torch.loader\n",
        "      Train dataset\n",
        "    val_loader: torch.loader\n",
        "      Validation set\n",
        "    reg_function1: function\n",
        "      Regularisation function [default: None]\n",
        "    reg_function2: function\n",
        "      Regularisation function [default: None]\n",
        "\n",
        "  Returns:\n",
        "    val_acc_list: list\n",
        "      Log of validation accuracy\n",
        "    train_acc_list: list\n",
        "      Log of training accuracy\n",
        "    param_norm_list: list\n",
        "      Log of frobenius norm\n",
        "    trained_model: nn.module\n",
        "      Trained model/model post training\n",
        "  \"\"\"\n",
        "  device = args['device']\n",
        "\n",
        "  model = model.to(device)\n",
        "  optimizer = optim.SGD(model.parameters(), lr=args['lr'], momentum=args['momentum'])\n",
        "\n",
        "  val_acc_list, train_acc_list,param_norm_list = [], [], []\n",
        "  for epoch in tqdm(range(args['epochs'])):\n",
        "    trained_model = train(args, model, train_loader, optimizer, epoch,\n",
        "                          reg_function1=reg_function1,\n",
        "                          reg_function2=reg_function2)\n",
        "    train_acc = test(trained_model, train_loader, loader='Train', device=device)\n",
        "    val_acc = test(trained_model, val_loader, loader='Val', device=device)\n",
        "    param_norm = calculate_frobenius_norm(trained_model)\n",
        "    train_acc_list.append(train_acc)\n",
        "    val_acc_list.append(val_acc)\n",
        "    param_norm_list.append(param_norm)\n",
        "\n",
        "  return val_acc_list, train_acc_list, param_norm_list, model\n",
        "\n",
        "\n",
        "def calculate_frobenius_norm(model):\n",
        "    \"\"\"\n",
        "    Function to calculate frobenius norm\n",
        "\n",
        "    Args:\n",
        "      model: nn.module\n",
        "        Neural network instance\n",
        "\n",
        "    Returns:\n",
        "      norm: float\n",
        "        Frobenius norm\n",
        "    \"\"\"\n",
        "    norm = 0.0\n",
        "    # Sum the square of all parameters\n",
        "    for name,param in model.named_parameters():\n",
        "        norm += torch.norm(param).data**2\n",
        "    # Return a square root of the sum of squares of all the parameters\n",
        "    return norm**0.5\n",
        "\n",
        "\n",
        "def early_stopping_main(args, model, train_loader, val_loader, test_data):\n",
        "  \"\"\"\n",
        "  Function to simulate early stopping\n",
        "\n",
        "  Args:\n",
        "    args: dictionary\n",
        "      Dictionary with epochs: 200, lr: 5e-3, momentum: 0.9, device: DEVICE\n",
        "    model: nn.module\n",
        "      Neural network instance\n",
        "    train_loader: torch.loader\n",
        "      Train dataset\n",
        "    val_loader: torch.loader\n",
        "      Validation set\n",
        "\n",
        "  Returns:\n",
        "    val_acc_list: list\n",
        "      Val accuracy log until early stop point\n",
        "    train_acc_list: list\n",
        "      Training accuracy log until early stop point\n",
        "    best_model: nn.module\n",
        "      Model performing best with early stopping\n",
        "    best_epoch: int\n",
        "      Epoch at which early stopping occurs\n",
        "  \"\"\"\n",
        "  device = args['device']\n",
        "\n",
        "  model = model.to(device)\n",
        "  optimizer = optim.SGD(model.parameters(), lr=args['lr'], momentum=args['momentum'])\n",
        "\n",
        "  best_acc  = 0.0\n",
        "  best_epoch = 0\n",
        "\n",
        "  # Number of successive epochs that you want to wait before stopping training process\n",
        "  patience = 20\n",
        "\n",
        "  # Keps track of number of epochs during which the val_acc was less than best_acc\n",
        "  wait = 0\n",
        "\n",
        "  val_acc_list, train_acc_list = [], []\n",
        "  for epoch in tqdm(range(args['epochs'])):\n",
        "    trained_model = train(args, model, device, train_loader, optimizer, epoch)\n",
        "    train_acc = test(trained_model, train_loader, loader='Train', device=device)\n",
        "    val_acc = test(trained_model, val_loader, loader='Val', device=device)\n",
        "    if (val_acc > best_acc):\n",
        "      best_acc = val_acc\n",
        "      best_epoch = epoch\n",
        "      best_model = copy.deepcopy(trained_model)\n",
        "      wait = 0\n",
        "    else:\n",
        "      wait += 1\n",
        "    if (wait > patience):\n",
        "      print(f'Early stopped on epoch: {epoch}')\n",
        "      break\n",
        "    train_acc_list.append(train_acc)\n",
        "    val_acc_list.append(val_acc)\n",
        "\n",
        "  return val_acc_list, train_acc_list, best_model, best_epoch"
      ]
    },
    {
      "cell_type": "code",
      "execution_count": 26,
      "metadata": {
        "cellView": "form",
        "execution": {},
        "id": "Isz8Dsk9_bCF"
      },
      "outputs": [],
      "source": [
        "# @title Set random seed\n",
        "# @markdown Executing `set_seed(seed=seed)` you are setting the seed\n",
        "\n",
        "# For DL its critical to set the random seed so that students can have a\n",
        "# baseline to compare their results to expected results.\n",
        "# Read more here: https://pytorch.org/docs/stable/notes/randomness.html\n",
        "\n",
        "# Call `set_seed` function in the exercises to ensure reproducibility.\n",
        "import random\n",
        "import torch\n",
        "\n",
        "def set_seed(seed=None, seed_torch=True):\n",
        "  \"\"\"\n",
        "  Function that controls randomness. NumPy and random modules must be imported.\n",
        "\n",
        "  Args:\n",
        "    seed : Integer\n",
        "      A non-negative integer that defines the random state. Default is `None`.\n",
        "    seed_torch : Boolean\n",
        "      If `True` sets the random seed for pytorch tensors, so pytorch module\n",
        "      must be imported. Default is `True`.\n",
        "\n",
        "  Returns:\n",
        "    Nothing.\n",
        "  \"\"\"\n",
        "  if seed is None:\n",
        "    seed = np.random.choice(2 ** 32)\n",
        "  random.seed(seed)\n",
        "  np.random.seed(seed)\n",
        "  if seed_torch:\n",
        "    torch.manual_seed(seed)\n",
        "    torch.cuda.manual_seed_all(seed)\n",
        "    torch.cuda.manual_seed(seed)\n",
        "    torch.backends.cudnn.benchmark = False\n",
        "    torch.backends.cudnn.deterministic = True\n",
        "\n",
        "  print(f'Random seed {seed} has been set.')\n",
        "\n",
        "\n",
        "# In case that `DataLoader` is used\n",
        "def seed_worker(worker_id):\n",
        "  \"\"\"\n",
        "  DataLoader will reseed workers following randomness in\n",
        "  multi-process data loading algorithm.\n",
        "\n",
        "  Args:\n",
        "    worker_id: integer\n",
        "      ID of subprocess to seed. 0 means that\n",
        "      the data will be loaded in the main process\n",
        "      Refer: https://pytorch.org/docs/stable/data.html#data-loading-randomness for more details\n",
        "\n",
        "  Returns:\n",
        "    Nothing\n",
        "  \"\"\"\n",
        "  worker_seed = torch.initial_seed() % 2**32\n",
        "  np.random.seed(worker_seed)\n",
        "  random.seed(worker_seed)"
      ]
    },
    {
      "cell_type": "code",
      "execution_count": 27,
      "metadata": {
        "execution": {},
        "id": "fYhQEzM9_bCF"
      },
      "outputs": [],
      "source": [
        "# @title Set device (GPU or CPU). Execute `set_device()`\n",
        "# especially if torch modules used.\n",
        "\n",
        "# Inform the user if the notebook uses GPU or CPU.\n",
        "\n",
        "def set_device():\n",
        "  \"\"\"\n",
        "  Set the device. CUDA if available, CPU otherwise\n",
        "\n",
        "  Args:\n",
        "    None\n",
        "\n",
        "  Returns:\n",
        "    Nothing\n",
        "  \"\"\"\n",
        "  device = \"cuda\" if torch.cuda.is_available() else \"cpu\"\n",
        "  if device != \"cuda\":\n",
        "    print(\"WARNING: For this notebook to perform best, \"\n",
        "        \"if possible, in the menu under `Runtime` -> \"\n",
        "        \"`Change runtime type.`  select `GPU` \")\n",
        "  else:\n",
        "    print(\"GPU is enabled in this notebook.\")\n",
        "\n",
        "  return device"
      ]
    },
    {
      "cell_type": "code",
      "execution_count": 28,
      "metadata": {
        "execution": {},
        "id": "ZvCuIo95_bCF",
        "colab": {
          "base_uri": "https://localhost:8080/"
        },
        "outputId": "6575cec1-56c3-4937-af26-6dec20a66cf9"
      },
      "outputs": [
        {
          "output_type": "stream",
          "name": "stdout",
          "text": [
            "Random seed 2021 has been set.\n",
            "GPU is enabled in this notebook.\n"
          ]
        }
      ],
      "source": [
        "SEED = 2021\n",
        "set_seed(seed=SEED)\n",
        "DEVICE = set_device()"
      ]
    },
    {
      "cell_type": "code",
      "execution_count": 29,
      "metadata": {
        "cellView": "form",
        "execution": {},
        "id": "V9CD11h6_bCF"
      },
      "outputs": [],
      "source": [
        "# @title Dataloaders for the Dataset\n",
        "## Dataloaders for the Dataset\n",
        "batch_size = 128\n",
        "classes = ('cat', 'dog', 'wild')\n",
        "\n",
        "train_transform = transforms.Compose([\n",
        "     transforms.ToTensor(),\n",
        "     transforms.Normalize((0.5, 0.5, 0.5), (0.5, 0.5, 0.5))\n",
        "     ])\n",
        "data_path = pathlib.Path('.')/'afhq' # Using pathlib to be compatible with all OS's\n",
        "img_dataset = ImageFolder(data_path/'train', transform=train_transform)\n",
        "\n",
        "\n",
        "####################################################\n",
        "g_seed = torch.Generator()\n",
        "g_seed.manual_seed(SEED)\n",
        "\n",
        "\n",
        "## Dataloaders for the  Original Dataset\n",
        "img_train_data, img_val_data,_ = torch.utils.data.random_split(img_dataset,\n",
        "                                                               [100, 100, 14430])\n",
        "\n",
        "# Creating train_loader and Val_loader\n",
        "train_loader = torch.utils.data.DataLoader(img_train_data,\n",
        "                                           batch_size=batch_size,\n",
        "                                           worker_init_fn=seed_worker,\n",
        "                                           num_workers=2,\n",
        "                                           generator=g_seed)\n",
        "val_loader = torch.utils.data.DataLoader(img_val_data,\n",
        "                                         batch_size=1000,\n",
        "                                         num_workers=2,\n",
        "                                         worker_init_fn=seed_worker,\n",
        "                                         generator=g_seed)\n",
        "\n",
        "# Creating test dataset\n",
        "test_transform = transforms.Compose([\n",
        "     transforms.ToTensor(),\n",
        "     transforms.Normalize((0.5, 0.5, 0.5), (0.5, 0.5, 0.5))\n",
        "     ])\n",
        "img_test_dataset = ImageFolder(data_path/'val', transform=test_transform)\n",
        "\n",
        "\n",
        "####################################################\n",
        "\n",
        "## Dataloaders for the  Random Dataset\n",
        "\n",
        "# Splitting randomized data into training and validation data\n",
        "data_path = pathlib.Path('.')/'afhq_random_32x32/afhq_random' # using pathlib to be compatible with all OS's\n",
        "img_dataset = ImageFolder(data_path/'train', transform=train_transform)\n",
        "random_img_train_data, random_img_val_data,_ = torch.utils.data.random_split(img_dataset, [100,100,14430])\n",
        "\n",
        "# Randomized train and validation dataloader\n",
        "rand_train_loader = torch.utils.data.DataLoader(random_img_train_data,\n",
        "                                                batch_size=batch_size,\n",
        "                                                num_workers=2,\n",
        "                                                worker_init_fn=seed_worker,\n",
        "                                                generator=g_seed)\n",
        "rand_val_loader = torch.utils.data.DataLoader(random_img_val_data,\n",
        "                                              batch_size=1000,\n",
        "                                              num_workers=2,\n",
        "                                              worker_init_fn=seed_worker,\n",
        "                                              generator=g_seed)\n",
        "\n",
        "####################################################\n",
        "\n",
        "## Dataloaders for the Partially Random Dataset\n",
        "\n",
        "# Splitting data between training and validation dataset for partially randomized data\n",
        "data_path = pathlib.Path('.')/'afhq_10_32x32/afhq_10' # using pathlib to be compatible with all OS's\n",
        "img_dataset = ImageFolder(data_path/'train', transform=train_transform)\n",
        "partially_random_train_data, partially_random_val_data, _ = torch.utils.data.random_split(img_dataset, [100,100,14430])\n",
        "\n",
        "# Training and Validation loader for partially randomized data\n",
        "partial_rand_train_loader = torch.utils.data.DataLoader(partially_random_train_data,\n",
        "                                                        batch_size=batch_size,\n",
        "                                                        num_workers=2,\n",
        "                                                        worker_init_fn=seed_worker,\n",
        "                                                        generator=g_seed)\n",
        "partial_rand_val_loader = torch.utils.data.DataLoader(partially_random_val_data,\n",
        "                                                      batch_size=1000,\n",
        "                                                      num_workers=2,\n",
        "                                                      worker_init_fn=seed_worker,\n",
        "                                                      generator=g_seed)"
      ]
    },
    {
      "cell_type": "markdown",
      "metadata": {
        "execution": {},
        "id": "Hmkn7MOA_bCF"
      },
      "source": [
        "---\n",
        "# Section 1: L1 and L2 Regularization\n",
        "\n",
        "*Time estimate: ~30 mins*\n"
      ]
    },
    {
      "cell_type": "markdown",
      "metadata": {
        "execution": {},
        "id": "2NfN5MSa_bCF"
      },
      "source": [
        "Some of you might have already come across L1 and L2 regularization before in other courses. L1 and L2 are the most common types of regularization. These update the general cost function by adding another term known as the regularization term.\n",
        "\n",
        "<br>\n",
        "\n",
        "\\begin{equation}\n",
        "\\text{Cost function} = Loss(\\text{e.g., binary cross entropy}) + \\text{Regularization term}\n",
        "\\end{equation}\n",
        "\n",
        "<br>\n",
        "\n",
        "This regularization term makes the parameters smaller, giving simpler models that will overfit less.\n",
        "\n",
        "Discuss among your teammates whether the above assumption is good or bad?"
      ]
    },
    {
      "cell_type": "markdown",
      "metadata": {
        "execution": {},
        "id": "ycqmGxpz_bCF"
      },
      "source": [
        "## Section 1.1: Unregularized Model"
      ]
    },
    {
      "cell_type": "code",
      "execution_count": 30,
      "metadata": {
        "cellView": "form",
        "execution": {},
        "id": "6a_EM4Fc_bCF"
      },
      "outputs": [],
      "source": [
        "# @markdown #### Dataloaders for Regularization\n",
        "data_path = pathlib.Path('.')/'afhq' # Using pathlib to be compatible with all OS's\n",
        "img_dataset = ImageFolder(data_path/'train', transform=train_transform)\n",
        "\n",
        "# Splitting dataset\n",
        "reg_train_data, reg_val_data,_ = torch.utils.data.random_split(img_dataset,\n",
        "                                                               [30, 100, 14500])\n",
        "g_seed = torch.Generator()\n",
        "g_seed.manual_seed(SEED)\n",
        "\n",
        "# Creating train_loader and Val_loader\n",
        "reg_train_loader = torch.utils.data.DataLoader(reg_train_data,\n",
        "                                               batch_size=batch_size,\n",
        "                                               worker_init_fn=seed_worker,\n",
        "                                               num_workers=2,\n",
        "                                               generator=g_seed)\n",
        "reg_val_loader = torch.utils.data.DataLoader(reg_val_data,\n",
        "                                             batch_size=1000,\n",
        "                                             worker_init_fn=seed_worker,\n",
        "                                             num_workers=2,\n",
        "                                             generator=g_seed)"
      ]
    },
    {
      "cell_type": "markdown",
      "metadata": {
        "execution": {},
        "id": "_0wjI4-A_bCF"
      },
      "source": [
        "Now let's train a model without regularization and keep it aside as our benchmark for this section."
      ]
    },
    {
      "cell_type": "code",
      "execution_count": 31,
      "metadata": {
        "execution": {},
        "id": "xDMDg_yt_bCF",
        "colab": {
          "base_uri": "https://localhost:8080/",
          "height": 661,
          "referenced_widgets": [
            "fddd435310774f46a8c7351f76471a28",
            "5a8e13e2713042078619df5a38e7cc2e",
            "f446c2b4ca4a4297aec9849164838ec7",
            "dfae9523f85d4497910748beead8341a",
            "d1747b36239245dd9a59139f9a8437ae",
            "3f3542e58fcb44f09942674328abd48c",
            "5301cff9be8d4ec0895d581c2fd74e03",
            "145a926180204fefa6f3b8512930f859",
            "cf9167a35f2f44aab836a1dfcbb06293",
            "5d9d96295fc542e9a116a040e3dc6a72",
            "814ef64e2c394453b4eadc5495b613f9"
          ]
        },
        "outputId": "ed533846-74d8-4fe5-b549-691064e87269"
      },
      "outputs": [
        {
          "output_type": "stream",
          "name": "stdout",
          "text": [
            "Random seed 2021 has been set.\n"
          ]
        },
        {
          "output_type": "display_data",
          "data": {
            "text/plain": [
              "  0%|          | 0/150 [00:00<?, ?it/s]"
            ],
            "application/vnd.jupyter.widget-view+json": {
              "version_major": 2,
              "version_minor": 0,
              "model_id": "fddd435310774f46a8c7351f76471a28"
            }
          },
          "metadata": {}
        },
        {
          "output_type": "display_data",
          "data": {
            "text/plain": [
              "<Figure size 800x600 with 1 Axes>"
            ],
            "image/png": "[encoded data removed]"
          },
          "metadata": {
            "image/png": {
              "width": 775,
              "height": 575
            }
          }
        },
        {
          "output_type": "stream",
          "name": "stdout",
          "text": [
            "Maximum Validation Accuracy reached: 51.0\n"
          ]
        }
      ],
      "source": [
        "# Set the arguments\n",
        "args = {\n",
        "    'epochs': 150,\n",
        "    'lr': 5e-3,\n",
        "    'momentum': 0.99,\n",
        "    'device': DEVICE,\n",
        "}\n",
        "\n",
        "# Initialize the model\n",
        "set_seed(seed=SEED)\n",
        "model = AnimalNet()\n",
        "\n",
        "# Train the model\n",
        "val_acc_unreg, train_acc_unreg, param_norm_unreg, _ = main(args,\n",
        "                                                           model,\n",
        "                                                           reg_train_loader,\n",
        "                                                           reg_val_loader,\n",
        "                                                           img_test_dataset)\n",
        "\n",
        "# Train and Test accuracy plot\n",
        "plt.figure()\n",
        "plt.plot(val_acc_unreg, label='Val Accuracy', c='red', ls='dashed')\n",
        "plt.plot(train_acc_unreg, label='Train Accuracy', c='red', ls='solid')\n",
        "plt.axhline(y=max(val_acc_unreg), c='green', ls='dashed')\n",
        "plt.title('Unregularized Model')\n",
        "plt.ylabel('Accuracy (%)')\n",
        "plt.xlabel('Epoch')\n",
        "plt.legend()\n",
        "plt.show()\n",
        "print(f\"Maximum Validation Accuracy reached: {max(val_acc_unreg)}\")"
      ]
    },
    {
      "cell_type": "markdown",
      "metadata": {
        "execution": {},
        "id": "kWqEXn_p_bCF"
      },
      "source": [
        "## Section 1.2: L1 Regularization"
      ]
    },
    {
      "cell_type": "markdown",
      "metadata": {
        "execution": {},
        "id": "Y7XrfDxM_bCF"
      },
      "source": [
        "L1 Regularization (or LASSO$^{\\ddagger}$) uses a penalty which is the sum of the absolute value of all the weights in the Deep Learning architecture, resulting in the following loss function ($L$ is the usual Cross-Entropy loss):\n",
        "\n",
        "\\begin{equation}\n",
        "  L_R = L + \\lambda \\sum \\left| w^{(r)}_{ij} \\right|\n",
        "\\end{equation}\n",
        "\n",
        "where $r$ denotes the layer, and $ij$ the specific weight in that layer.\n",
        "\n",
        "At a high level, L1 Regularization is similar to L2 Regularization since it leads to smaller weights (you will see the analogy in the next subsection). It results in the following weight update equation when using Stochastic Gradient Descent:\n",
        "\n",
        "\\begin{equation}\n",
        "  w^{(r)}_{ij}←w^{(r)}_{ij} − \\eta \\cdot \\lambda \\cdot \\text{sgn}\\left(w^{(r)}_{ij}\\right)−\\eta \\frac{\\partial L}{\\partial w_{ij}^{(r)}}\n",
        "\\end{equation}\n",
        "\n",
        "where  $\\text{sgn}(\\cdot)$ is the sign function, such that\n",
        "\n",
        "\\begin{equation}\n",
        "\\text{sgn}(w) =\n",
        "\\left\\{\n",
        "  \\begin{array}{ll}\n",
        "  +1 & \\mbox{if  } w > 0 \\\\\n",
        "  -1 & \\mbox{if  } w < 0 \\\\\n",
        "  0 & \\mbox{if  } w = 0\n",
        "  \\end{array}\n",
        "\\right.\n",
        "\\end{equation}\n",
        "\n",
        "<br>\n",
        "\n",
        "$^{\\ddagger}$LASSO: Least Absolute Shrinkage and Selection Operator"
      ]
    },
    {
      "cell_type": "markdown",
      "metadata": {
        "execution": {},
        "id": "7JvlhTqy_bCF"
      },
      "source": [
        "### Coding Exercise 1.1: L1 Regularization\n",
        "\n",
        "Write a function that calculates the L1 norm of all the tensors of a PyTorch model."
      ]
    },
    {
      "cell_type": "markdown",
      "metadata": {
        "execution": {},
        "id": "78FC6Upa_bCF"
      },
      "source": [
        "```python\n",
        "def l1_reg(model):\n",
        "  \"\"\"\n",
        "  This function calculates the l1 norm of the all the tensors in the model\n",
        "\n",
        "  Args:\n",
        "    model: nn.module\n",
        "      Neural network instance\n",
        "\n",
        "  Returns:\n",
        "    l1: float\n",
        "      L1 norm of the all the tensors in the model\n",
        "  \"\"\"\n",
        "  l1 = 0.0\n",
        "  ####################################################################\n",
        "  # Fill in all missing code below (...),\n",
        "  # then remove or comment the line below to test your function\n",
        "  raise NotImplementedError(\"Complete the l1_reg function\")\n",
        "  ####################################################################\n",
        "  for param in model.parameters():\n",
        "    l1 += torch.sum(torch.abs(param))\n",
        "\n",
        "  return l1\n",
        "\n",
        "\n",
        "set_seed(seed=SEED)\n",
        "## uncomment to test\n",
        "# net = nn.Linear(20, 20)\n",
        "# print(f\"L1 norm of the model: {l1_reg(net)}\")\n",
        "\n",
        "```"
      ]
    },
    {
      "cell_type": "markdown",
      "metadata": {
        "execution": {},
        "id": "8r1fo14Y_bCF"
      },
      "source": [
        "```\n",
        "Random seed 2021 has been set.\n",
        "L1 norm of the model: 48.445133209228516\n",
        "```"
      ]
    },
    {
      "cell_type": "code",
      "source": [
        "def l1_reg(model):\n",
        "  \"\"\"\n",
        "  This function calculates the l1 norm of the all the tensors in the model\n",
        "\n",
        "  Args:\n",
        "    model: nn.module\n",
        "      Neural network instance\n",
        "\n",
        "  Returns:\n",
        "    l1: float\n",
        "      L1 norm of the all the tensors in the model\n",
        "  \"\"\"\n",
        "  l1 = 0.0\n",
        "  ####################################################################\n",
        "  # Fill in all missing code below (...),\n",
        "  # then remove or comment the line below to test your function\n",
        "  # raise NotImplementedError(\"Complete the l1_reg function\")\n",
        "  ####################################################################\n",
        "  for param in model.parameters():\n",
        "    l1 += torch.sum(torch.abs(param))\n",
        "  return l1\n",
        "\n",
        "\n",
        "set_seed(seed=SEED)\n",
        "## uncomment to test\n",
        "net = nn.Linear(20, 20)\n",
        "print(f\"L1 norm of the model: {l1_reg(net)}\")"
      ],
      "metadata": {
        "id": "YGihDmDCMCgW",
        "outputId": "2d2174c5-679f-45f6-f80c-8e9476eb1070",
        "colab": {
          "base_uri": "https://localhost:8080/"
        }
      },
      "execution_count": 35,
      "outputs": [
        {
          "output_type": "stream",
          "name": "stdout",
          "text": [
            "Random seed 2021 has been set.\n",
            "L1 norm of the model: 48.445133209228516\n"
          ]
        }
      ]
    },
    {
      "metadata": {
        "id": "gkJygXJTKNLe"
      },
      "cell_type": "code",
      "outputs": [],
      "execution_count": 32,
      "source": [
        "# TODO: Complete previous code"
      ]
    },
    {
      "cell_type": "markdown",
      "metadata": {
        "execution": {},
        "id": "x32-dSMs_bCF"
      },
      "source": [
        "Now, let's train a classifier that uses L1 regularization. Tune the hyperparameter `lambda1` such that the validation accuracy is higher than that of the unregularized model."
      ]
    },
    {
      "cell_type": "code",
      "execution_count": 36,
      "metadata": {
        "execution": {},
        "id": "Npg-QKRD_bCG",
        "colab": {
          "base_uri": "https://localhost:8080/",
          "height": 661,
          "referenced_widgets": [
            "a646512854714c6faf3039015dc8092e",
            "0458503a7d6b46cbb968e627ea620dcc",
            "2d99f80dd9934d1bb62531c071e5e7c5",
            "628d95efffd64ee6a2018c2ff0aa2c89",
            "47eacefefa764472aa5ab82f1b234125",
            "ef308bf2a17d4f71a8b6d29774542e16",
            "7e9f61668dcb46d7ae0ec4585e9deb95",
            "191995ec16c14f1988215595392cb5ee",
            "ebb011e009254fc581516cc18d242dbf",
            "834cc15552f247618caaa59b8b7ddf1d",
            "8a5054c7785a4e12a97f18bc20dae942"
          ]
        },
        "outputId": "f752e3df-4545-4c7d-d966-5a8827b15810"
      },
      "outputs": [
        {
          "output_type": "stream",
          "name": "stdout",
          "text": [
            "Random seed 2021 has been set.\n"
          ]
        },
        {
          "output_type": "display_data",
          "data": {
            "text/plain": [
              "  0%|          | 0/150 [00:00<?, ?it/s]"
            ],
            "application/vnd.jupyter.widget-view+json": {
              "version_major": 2,
              "version_minor": 0,
              "model_id": "a646512854714c6faf3039015dc8092e"
            }
          },
          "metadata": {}
        },
        {
          "output_type": "display_data",
          "data": {
            "text/plain": [
              "<Figure size 800x600 with 1 Axes>"
            ],
            "image/png": "[encoded data removed]"
          },
          "metadata": {
            "image/png": {
              "width": 775,
              "height": 575
            }
          }
        },
        {
          "output_type": "stream",
          "name": "stdout",
          "text": [
            "Maximum Validation Accuracy Reached: 52.0\n"
          ]
        }
      ],
      "source": [
        "# Set the arguments\n",
        "args1 = {\n",
        "    'test_batch_size': 1000,\n",
        "    'epochs': 150,\n",
        "    'lr': 5e-3,\n",
        "    'momentum': 0.99,\n",
        "    'device': DEVICE,\n",
        "    'lambda1': 0.001  # <<<<<<<< Tune the hyperparameter lambda1\n",
        "}\n",
        "\n",
        "# Initialize the model\n",
        "set_seed(seed=SEED)\n",
        "model = AnimalNet()\n",
        "\n",
        "# Train the model\n",
        "val_acc_l1reg, train_acc_l1reg, param_norm_l1reg, _ = main(args1,\n",
        "                                                           model,\n",
        "                                                           reg_train_loader,\n",
        "                                                           reg_val_loader,\n",
        "                                                           img_test_dataset,\n",
        "                                                           reg_function1=l1_reg)\n",
        "\n",
        "# Train and Test accuracy plot\n",
        "plt.figure()\n",
        "plt.plot(val_acc_l1reg, label='Val Accuracy L1 Regularized',\n",
        "         c='red', ls='dashed')\n",
        "plt.plot(train_acc_l1reg, label='Train Accuracy L1 regularized',\n",
        "         c='red', ls='solid')\n",
        "plt.axhline(y=max(val_acc_l1reg), c='green', ls='dashed')\n",
        "plt.title('L1 regularized model')\n",
        "plt.ylabel('Accuracy (%)')\n",
        "plt.xlabel('Epoch')\n",
        "plt.legend()\n",
        "plt.show()\n",
        "print(f\"Maximum Validation Accuracy Reached: {max(val_acc_l1reg)}\")"
      ]
    },
    {
      "cell_type": "markdown",
      "metadata": {
        "execution": {},
        "id": "taGPNpn4_bCG"
      },
      "source": [
        "What value of `lambda1` hyperparameter worked for L1 Regularization?\n",
        "\n",
        "**Note:** that the $\\lambda$ in the equations is the `lambda1` in the code for clarity."
      ]
    },
    {
      "cell_type": "markdown",
      "metadata": {
        "execution": {},
        "id": "hT6Jrs7k_bCG"
      },
      "source": [
        "## Section 1.3: L2 / Ridge Regularization"
      ]
    },
    {
      "cell_type": "markdown",
      "metadata": {
        "execution": {},
        "id": "PQPaehuk_bCG"
      },
      "source": [
        "L2 Regularization (or Ridge), also referred to as “Weight Decay”, is widely used. It works by adding a quadratic penalty term to the Cross-Entropy Loss Function $L$, which results in a new Loss Function $L_R$ given by:\n",
        "\n",
        "\\begin{equation}\n",
        "L_R = L + \\lambda \\sum \\left( w^{(r)}_{ij} \\right)^2\n",
        "\\end{equation}\n",
        "\n",
        "where, again, $r$ superscript denotes the layer, and $ij$ the specific weight in that layer.\n",
        "\n",
        "To get further insight into L2 Regularization, we investigate its effect on the Gradient Descent based update equations for the weight and bias parameters. Taking the derivative on both sides of the above equation, we obtain\n",
        "\n",
        "\\begin{equation}\n",
        "\\frac{\\partial L_R}{\\partial w^{(r)}_{ij}}=\\frac{\\partial L}{\\partial w^{(r)}_{ij}} + 2\\lambda w^{(r)}_{ij}\n",
        "\\end{equation}\n",
        "\n",
        "Thus the weight update rule becomes:\n",
        "\n",
        "\\begin{equation}\n",
        "w^{(r)}_{ij}←w^{(r)}_{ij}−η\\frac{\\partial L}{\\partial w^{(r)}_{ij}}−2 \\eta \\lambda w^{(r)}_{ij}=(1−2 \\eta \\lambda)w^{(r)}_{ij} − \\eta \\frac{\\partial L}{\\partial w^{(r)}_{ij}}\n",
        "\\end{equation}\n",
        "\n",
        "where $\\eta$ is the learning rate."
      ]
    },
    {
      "cell_type": "markdown",
      "metadata": {
        "execution": {},
        "id": "JmpQo_aj_bCG"
      },
      "source": [
        "### Coding Exercise 1.2: L2 Regularization\n",
        "\n",
        "Write a function that calculates the L2 norm of all the tensors of a PyTorch model. (What did we call this before?)"
      ]
    },
    {
      "cell_type": "markdown",
      "metadata": {
        "execution": {},
        "id": "wTFyX98I_bCG"
      },
      "source": [
        "```python\n",
        "def l2_reg(model):\n",
        "  \"\"\"\n",
        "  This function calculates the l2 norm of the all the tensors in the model\n",
        "\n",
        "  Args:\n",
        "    model: nn.module\n",
        "      Neural network instance\n",
        "\n",
        "  Returns:\n",
        "    l2: float\n",
        "      L2 norm of the all the tensors in the model\n",
        "  \"\"\"\n",
        "\n",
        "  l2 = 0.0\n",
        "  ####################################################################\n",
        "  # Fill in all missing code below (...),\n",
        "  # then remove or comment the line below to test your function\n",
        "  raise NotImplementedError(\"Complete the l2_reg function\")\n",
        "  ####################################################################\n",
        "  for param in model.parameters():\n",
        "    l2 += torch.sum(torch.abs(param)**2)\n",
        "\n",
        "  return l2\n",
        "\n",
        "\n",
        "set_seed(SEED)\n",
        "## uncomment to test\n",
        "# net = nn.Linear(20, 20)\n",
        "# print(f\"L2 norm of the model: {l2_reg(net)}\")\n",
        "\n",
        "```"
      ]
    },
    {
      "cell_type": "code",
      "source": [
        "def l2_reg(model):\n",
        "  \"\"\"\n",
        "  This function calculates the l2 norm of the all the tensors in the model\n",
        "\n",
        "  Args:\n",
        "    model: nn.module\n",
        "      Neural network instance\n",
        "\n",
        "  Returns:\n",
        "    l2: float\n",
        "      L2 norm of the all the tensors in the model\n",
        "  \"\"\"\n",
        "\n",
        "  l2 = 0.0\n",
        "  ####################################################################\n",
        "  # Fill in all missing code below (...),\n",
        "  # then remove or comment the line below to test your function\n",
        "  # raise NotImplementedError(\"Complete the l2_reg function\")\n",
        "  ####################################################################\n",
        "  for param in model.parameters():\n",
        "    l2 += torch.sum(torch.abs(param)**2)\n",
        "\n",
        "  return l2\n",
        "\n",
        "\n",
        "set_seed(SEED)\n",
        "## uncomment to test\n",
        "net = nn.Linear(20, 20)\n",
        "print(f\"L2 norm of the model: {l2_reg(net)}\")"
      ],
      "metadata": {
        "id": "FWQmExVOMVqX",
        "outputId": "d154fec0-c2d7-45c6-89f6-579b9d8dffc0",
        "colab": {
          "base_uri": "https://localhost:8080/"
        }
      },
      "execution_count": 37,
      "outputs": [
        {
          "output_type": "stream",
          "name": "stdout",
          "text": [
            "Random seed 2021 has been set.\n",
            "L2 norm of the model: 7.328375816345215\n"
          ]
        }
      ]
    },
    {
      "metadata": {
        "id": "nGXb2z5SKNLf"
      },
      "cell_type": "markdown",
      "source": [
        "```\n",
        "Random seed 2021 has been set.\n",
        "L2 norm of the model: 7.328375816345215\n",
        "```"
      ]
    },
    {
      "metadata": {
        "id": "DCfFV_RxKNLf"
      },
      "cell_type": "code",
      "outputs": [],
      "execution_count": 38,
      "source": [
        "# TODO: Complete previous code"
      ]
    },
    {
      "cell_type": "markdown",
      "metadata": {
        "execution": {},
        "id": "yAkgXFE3_bCI"
      },
      "source": [
        "Now we'll train a classifier that uses L2 regularization. Tune the hyperparameter `lambda2` such that the validation accuracy is higher than that of the unregularized model."
      ]
    },
    {
      "cell_type": "code",
      "execution_count": 39,
      "metadata": {
        "execution": {},
        "id": "kt2cvpgs_bCJ",
        "colab": {
          "base_uri": "https://localhost:8080/",
          "height": 661,
          "referenced_widgets": [
            "4352e091ecd44261a322bb798b3edc46",
            "14131370df2944e4a577f39be43efca9",
            "14c06fc5636a4a48974def71188dd987",
            "2c71ce802a514fcbb3a84033a19ff7c1",
            "6d07b7f2c76b48c08ddeb65323c35373",
            "16e66ac75e744c2caca463fd4427c1ec",
            "02dbabce0c2443268de750bc6e0e8c1b",
            "a1a3dbe075cc4e1d9dcf9082b07480db",
            "bf49f20d6cad4feea9576d28076ce3bc",
            "47441e5222344efb91830ff84e57923b",
            "f0cd9133cfb842b4bc18b80b3a374409"
          ]
        },
        "outputId": "b8fd7fff-a0b8-43d0-90bb-50957b1834f0"
      },
      "outputs": [
        {
          "output_type": "stream",
          "name": "stdout",
          "text": [
            "Random seed 2021 has been set.\n"
          ]
        },
        {
          "output_type": "display_data",
          "data": {
            "text/plain": [
              "  0%|          | 0/150 [00:00<?, ?it/s]"
            ],
            "application/vnd.jupyter.widget-view+json": {
              "version_major": 2,
              "version_minor": 0,
              "model_id": "4352e091ecd44261a322bb798b3edc46"
            }
          },
          "metadata": {}
        },
        {
          "output_type": "display_data",
          "data": {
            "text/plain": [
              "<Figure size 800x600 with 1 Axes>"
            ],
            "image/png": "[encoded data removed]"
          },
          "metadata": {
            "image/png": {
              "width": 775,
              "height": 575
            }
          }
        },
        {
          "output_type": "stream",
          "name": "stdout",
          "text": [
            "Maximum Validation Accuracy reached: 57.0\n"
          ]
        }
      ],
      "source": [
        "# Set the arguments\n",
        "args2 = {\n",
        "    'test_batch_size': 1000,\n",
        "    'epochs': 150,\n",
        "    'lr': 5e-3,\n",
        "    'momentum': 0.99,\n",
        "    'device': DEVICE,\n",
        "    'lambda2': 0.001  # <<<<<<<< Tune the hyperparameter lambda2\n",
        "}\n",
        "\n",
        "# Initialize the model\n",
        "set_seed(seed=SEED)\n",
        "model = AnimalNet()\n",
        "\n",
        "# Train the model\n",
        "val_acc_l2reg, train_acc_l2reg, param_norm_l2reg, model = main(args2,\n",
        "                                                               model,\n",
        "                                                               train_loader,\n",
        "                                                               val_loader,\n",
        "                                                               img_test_dataset,\n",
        "                                                               reg_function2=l2_reg)\n",
        "\n",
        "## Train and Test accuracy plot\n",
        "plt.figure()\n",
        "plt.plot(val_acc_l2reg, label='Val Accuracy L2 regularized',\n",
        "         c='red', ls='dashed')\n",
        "plt.plot(train_acc_l2reg, label='Train Accuracy L2 regularized',\n",
        "         c='red', ls='solid')\n",
        "plt.axhline(y=max(val_acc_l2reg), c='green', ls='dashed')\n",
        "plt.title('L2 Regularized Model')\n",
        "plt.ylabel('Accuracy (%)')\n",
        "plt.xlabel('Epoch')\n",
        "plt.legend()\n",
        "plt.show()\n",
        "print(f\"Maximum Validation Accuracy reached: {max(val_acc_l2reg)}\")"
      ]
    },
    {
      "cell_type": "markdown",
      "metadata": {
        "execution": {},
        "id": "RCpXf8b3_bCJ"
      },
      "source": [
        "What value `lambda2` worked for L2 Regularization?\n",
        "\n",
        "**Note:** that the $\\lambda$ in the equations is the `lambda2` in the code for clarity."
      ]
    },
    {
      "cell_type": "markdown",
      "metadata": {
        "execution": {},
        "id": "aacT6zxy_bCJ"
      },
      "source": [
        "Now, let's run a model with both L1 and L2 regularization terms."
      ]
    },
    {
      "cell_type": "code",
      "execution_count": 40,
      "metadata": {
        "cellView": "form",
        "execution": {},
        "id": "Gb_ktQ6G_bCJ",
        "colab": {
          "base_uri": "https://localhost:8080/",
          "height": 936,
          "referenced_widgets": [
            "c1d5057d925246d89f44a7d2ca472d0b",
            "c5aad2df628843e8808212480313fa42",
            "6a5996c1d410457ba73c1b391e981a2b",
            "6e894f351d914a4f8d785786d103ec77",
            "0c4e1b4ac71c4bd3a1b6383e15bc1ac0",
            "3ef1e99215ce405883bced0cd4d3a2b2",
            "61175c33fc3448b389378b4516d797f3",
            "4f76235898df4efe904576bda1147cf4",
            "67077cee0a424e4ab849a50422366d08",
            "dafa9dc44b424247af27b760b6b50652",
            "aee095691acc433d843821dc4502e0cb"
          ]
        },
        "outputId": "32f9d080-2de2-4fc8-f8d6-87a2269fd9cd"
      },
      "outputs": [
        {
          "output_type": "stream",
          "name": "stdout",
          "text": [
            "Random seed 2021 has been set.\n"
          ]
        },
        {
          "output_type": "stream",
          "name": "stderr",
          "text": [
            "<>:30: SyntaxWarning: invalid escape sequence '\\l'\n",
            "<>:36: SyntaxWarning: invalid escape sequence '\\l'\n",
            "<>:47: SyntaxWarning: invalid escape sequence '\\l'\n",
            "<>:47: SyntaxWarning: invalid escape sequence '\\l'\n",
            "<>:30: SyntaxWarning: invalid escape sequence '\\l'\n",
            "<>:36: SyntaxWarning: invalid escape sequence '\\l'\n",
            "<>:47: SyntaxWarning: invalid escape sequence '\\l'\n",
            "<>:47: SyntaxWarning: invalid escape sequence '\\l'\n",
            "/tmp/ipython-input-2694426940.py:30: SyntaxWarning: invalid escape sequence '\\l'\n",
            "  label=f\"L2 regularized, $\\lambda_2$={args2['lambda2']}\",\n",
            "/tmp/ipython-input-2694426940.py:36: SyntaxWarning: invalid escape sequence '\\l'\n",
            "  label=f\"L1 regularized, $\\lambda_1$={args1['lambda1']}\",\n",
            "/tmp/ipython-input-2694426940.py:47: SyntaxWarning: invalid escape sequence '\\l'\n",
            "  label=f\"L1+L2 regularized, $\\lambda_1$={args3['lambda1']}, $\\lambda_2$={args3['lambda2']}\",\n",
            "/tmp/ipython-input-2694426940.py:47: SyntaxWarning: invalid escape sequence '\\l'\n",
            "  label=f\"L1+L2 regularized, $\\lambda_1$={args3['lambda1']}, $\\lambda_2$={args3['lambda2']}\",\n"
          ]
        },
        {
          "output_type": "display_data",
          "data": {
            "text/plain": [
              "  0%|          | 0/150 [00:00<?, ?it/s]"
            ],
            "application/vnd.jupyter.widget-view+json": {
              "version_major": 2,
              "version_minor": 0,
              "model_id": "c1d5057d925246d89f44a7d2ca472d0b"
            }
          },
          "metadata": {}
        },
        {
          "output_type": "display_data",
          "data": {
            "text/plain": [
              "<Figure size 800x600 with 1 Axes>"
            ],
            "image/png": "[encoded data removed]"
          },
          "metadata": {
            "image/png": {
              "width": 775,
              "height": 575
            }
          }
        }
      ],
      "source": [
        "# @markdown Visualize all of them together (Run Me!)\n",
        "\n",
        "# @markdown `lambda1=0.001` and `lambda2=0.001`\n",
        "\n",
        "args3 = {\n",
        "    'test_batch_size': 1000,\n",
        "    'epochs': 150,\n",
        "    'lr': 5e-3,\n",
        "    'momentum': 0.99,\n",
        "    'device': DEVICE,\n",
        "    'lambda1': 0.001,\n",
        "    'lambda2': 0.001\n",
        "}\n",
        "\n",
        "# Initialize the model\n",
        "set_seed(seed=SEED)\n",
        "model = AnimalNet()\n",
        "val_acc_l1l2reg, train_acc_l1l2reg, param_norm_l1l2reg, _ = main(args3,\n",
        "                                                                 model,\n",
        "                                                                 train_loader,\n",
        "                                                                 val_loader,\n",
        "                                                                 img_test_dataset,\n",
        "                                                                 reg_function1=l1_reg,\n",
        "                                                                 reg_function2=l2_reg)\n",
        "\n",
        "plt.figure()\n",
        "\n",
        "plt.plot(val_acc_l2reg, c='red', ls='dashed')\n",
        "plt.plot(train_acc_l2reg,\n",
        "         label=f\"L2 regularized, $\\lambda_2$={args2['lambda2']}\",\n",
        "         c='red', ls='solid')\n",
        "plt.axhline(y=max(val_acc_l2reg), c='red', ls='dashed')\n",
        "\n",
        "plt.plot(val_acc_l1reg, c='green', ls = 'dashed')\n",
        "plt.plot(train_acc_l1reg,\n",
        "         label=f\"L1 regularized, $\\lambda_1$={args1['lambda1']}\",\n",
        "         c='green', ls='solid')\n",
        "plt.axhline(y=max(val_acc_l1reg), c='green', ls='dashed')\n",
        "\n",
        "plt.plot(val_acc_unreg, c='blue', ls = 'dashed')\n",
        "plt.plot(train_acc_unreg,\n",
        "         label='Unregularized', c='blue', ls='solid')\n",
        "plt.axhline(y=max(val_acc_unreg), c='blue', ls='dashed')\n",
        "\n",
        "plt.plot(val_acc_l1l2reg, c='orange', ls='dashed')\n",
        "plt.plot(train_acc_l1l2reg,\n",
        "         label=f\"L1+L2 regularized, $\\lambda_1$={args3['lambda1']}, $\\lambda_2$={args3['lambda2']}\",\n",
        "         c='orange', ls='solid')\n",
        "plt.axhline(y=max(val_acc_l1l2reg), c='orange', ls = 'dashed')\n",
        "\n",
        "plt.xlabel('Epoch')\n",
        "plt.ylabel('Accuracy (%)')\n",
        "plt.legend()\n",
        "plt.show()"
      ]
    },
    {
      "cell_type": "markdown",
      "metadata": {
        "execution": {},
        "id": "rBhpZhK-_bCJ"
      },
      "source": [
        "Now, let's visualize what these different regularizations do to the model's parameters. We observe the effect by computing the size (technically, the Frobenius norm)."
      ]
    },
    {
      "cell_type": "code",
      "execution_count": 41,
      "metadata": {
        "execution": {},
        "id": "cavaAZ4v_bCJ",
        "colab": {
          "base_uri": "https://localhost:8080/"
        },
        "outputId": "53e629f3-5d17-4bf5-82da-c819ffc0c891"
      },
      "outputs": [
        {
          "output_type": "stream",
          "name": "stdout",
          "text": [
            "tensor(7.3810, device='cuda:0')\n"
          ]
        }
      ],
      "source": [
        "x =  param_norm_unreg[0]\n",
        "print(x)"
      ]
    },
    {
      "cell_type": "code",
      "execution_count": 42,
      "metadata": {
        "cellView": "form",
        "execution": {},
        "id": "IJYp60I5_bCJ",
        "colab": {
          "base_uri": "https://localhost:8080/",
          "height": 592
        },
        "outputId": "2c158462-c6fc-4bbb-cd1c-32ffeb68458b"
      },
      "outputs": [
        {
          "output_type": "display_data",
          "data": {
            "text/plain": [
              "<Figure size 800x600 with 1 Axes>"
            ],
            "image/png": "[encoded data removed]"
          },
          "metadata": {
            "image/png": {
              "width": 775,
              "height": 575
            }
          }
        }
      ],
      "source": [
        "# @markdown #### Visualize Norm of the Models (Train Me!)\n",
        "plt.figure()\n",
        "plt.plot([i.cpu().numpy() for i in param_norm_unreg],\n",
        "         label='Unregularized', c='blue')\n",
        "plt.plot([i.cpu().numpy() for i in param_norm_l1reg],\n",
        "         label='L1 Regularized', c='green')\n",
        "plt.plot([i.cpu().numpy() for i in param_norm_l2reg],\n",
        "         label='L2 Regularized', c='red')\n",
        "plt.plot([i.cpu().numpy() for i in param_norm_l1l2reg],\n",
        "         label='L1+L2 Regularized', c='orange')\n",
        "plt.xlabel('Epoch')\n",
        "plt.ylabel('Parameter Norms')\n",
        "plt.legend()\n",
        "plt.show()"
      ]
    },
    {
      "cell_type": "markdown",
      "metadata": {
        "execution": {},
        "id": "xlp9216w_bCJ"
      },
      "source": [
        "In the above plots, you should have seen that the validation accuracies fluctuate even after the model achieves 100% train accuracy. Thus, the model is still trying to learn something. Why would this be the case?"
      ]
    },
    {
      "cell_type": "markdown",
      "metadata": {
        "execution": {},
        "id": "x-ADlPfy_bCJ"
      },
      "source": [
        "---\n",
        "# Section 2: Dropout\n",
        "\n",
        "*Time estimate: ~25 mins*\n"
      ]
    },
    {
      "cell_type": "markdown",
      "metadata": {
        "execution": {},
        "id": "eQhbe0Qg_bCJ"
      },
      "source": [
        "With Dropout, we literally drop out (zero out) some neurons during training. Throughout the training, the standard dropout zeros out some fraction (usually 50%) of the nodes in each layer, and on each iteration, before calculating the subsequent layer. Randomly selecting different subsets to drop out introduces noise into the process and reduces overfitting.\n",
        "\n",
        "<br>\n",
        "\n",
        "<center><img src=\"https://d2l.ai/_images/dropout2.svg\" alt=\"Dropout\" width=\"600\"/></center>\n",
        "\n",
        "<br>\n"
      ]
    },
    {
      "cell_type": "markdown",
      "metadata": {
        "execution": {},
        "id": "LVrdpVjW_bCJ"
      },
      "source": [
        "Now let's revisit the toy dataset we generated above to visualize how the Dropout stabilizes training on a noisy dataset. We will slightly modify the architecture we used above to add dropout layers."
      ]
    },
    {
      "cell_type": "code",
      "execution_count": 43,
      "metadata": {
        "execution": {},
        "id": "EdANGlwh_bCJ"
      },
      "outputs": [],
      "source": [
        "class NetDropout(nn.Module):\n",
        "  \"\"\"\n",
        "  Network Class - 2D with the following structure:\n",
        "  nn.Linear(1, 300) + leaky_relu(self.dropout1(self.fc1(x))) # First fully connected layer with 0.4 dropout\n",
        "  nn.Linear(300, 500) + leaky_relu(self.dropout2(self.fc2(x))) # Second fully connected layer with 0.2 dropout\n",
        "  nn.Linear(500, 1) # Final fully connected layer\n",
        "  \"\"\"\n",
        "\n",
        "  def __init__(self):\n",
        "    \"\"\"\n",
        "    Initialize parameters of NetDropout\n",
        "\n",
        "    Args:\n",
        "      None\n",
        "\n",
        "    Returns:\n",
        "      Nothing\n",
        "    \"\"\"\n",
        "    super(NetDropout, self).__init__()\n",
        "\n",
        "    self.fc1 = nn.Linear(1, 300)\n",
        "    self.fc2 = nn.Linear(300, 500)\n",
        "    self.fc3 = nn.Linear(500, 1)\n",
        "    # We add two dropout layers\n",
        "    self.dropout1 = nn.Dropout(0.4)\n",
        "    self.dropout2 = nn.Dropout(0.2)\n",
        "\n",
        "  def forward(self, x):\n",
        "    \"\"\"\n",
        "    Forward pass of NetDropout\n",
        "\n",
        "    Args:\n",
        "      x: torch.tensor\n",
        "        Input features\n",
        "\n",
        "    Returns:\n",
        "      output: torch.tensor\n",
        "        Output/Predictions\n",
        "    \"\"\"\n",
        "    x = F.leaky_relu(self.dropout1(self.fc1(x)))\n",
        "    x = F.leaky_relu(self.dropout2(self.fc2(x)))\n",
        "    output = self.fc3(x)\n",
        "    return output"
      ]
    },
    {
      "cell_type": "code",
      "execution_count": 44,
      "metadata": {
        "cellView": "form",
        "execution": {},
        "id": "NAjdDRIE_bCJ",
        "colab": {
          "base_uri": "https://localhost:8080/",
          "height": 67,
          "referenced_widgets": [
            "e26dbd08c0fa423aa65637b22e41ae04",
            "51af94717cc54184a15114c77e8a570d",
            "d54403173b314bc68ccd3967d52aab82",
            "c45cb438fba24bf69ae1e0bca25d21c1",
            "c473e30372f74b60a06835b51901c1b2",
            "47959aff24f84a8bb35e724bbce320e0",
            "96b29d424b3749bf81ed4b6caff61de8",
            "a9cde1cca349483eab3cc9ffc76779a1",
            "d354ccb986cb49429b95899e8bc8dc4d",
            "bd041f265ed84f3387d277e5b07e2179",
            "58b142ff39cf4c489bff2937cda35882"
          ]
        },
        "outputId": "92f1446f-22e3-47d2-f058-9e19c2ea303a"
      },
      "outputs": [
        {
          "output_type": "stream",
          "name": "stdout",
          "text": [
            "Random seed 2021 has been set.\n"
          ]
        },
        {
          "output_type": "display_data",
          "data": {
            "text/plain": [
              "  0%|          | 0/10000 [00:00<?, ?it/s]"
            ],
            "application/vnd.jupyter.widget-view+json": {
              "version_major": 2,
              "version_minor": 0,
              "model_id": "e26dbd08c0fa423aa65637b22e41ae04"
            }
          },
          "metadata": {}
        }
      ],
      "source": [
        "# @markdown #### Run to train the default network\n",
        "set_seed(seed=SEED)\n",
        "\n",
        "# Creating train data\n",
        "X = torch.rand((10, 1))\n",
        "X.sort(dim = 0)\n",
        "Y = 2*X + 2*torch.empty((X.shape[0], 1)).normal_(mean=0, std=1)  # adding small error in the data\n",
        "\n",
        "X = X.unsqueeze_(1)\n",
        "Y = Y.unsqueeze_(1)\n",
        "\n",
        "# Creating test dataset\n",
        "X_test = torch.linspace(0, 1, 40)\n",
        "X_test = X_test.reshape((40, 1, 1))\n",
        "\n",
        "# Train the network on toy dataset\n",
        "model = Net()\n",
        "criterion = nn.MSELoss()\n",
        "optimizer = optim.Adam(model.parameters(), lr=1e-4)\n",
        "max_epochs = 10000\n",
        "iters = 0\n",
        "\n",
        "running_predictions = np.empty((40, (int)(max_epochs/500 + 1)))\n",
        "\n",
        "train_loss = []\n",
        "test_loss = []\n",
        "model_norm = []\n",
        "\n",
        "for epoch in tqdm(range(max_epochs)):\n",
        "\n",
        "  # Training\n",
        "  model_norm.append(calculate_frobenius_norm(model))\n",
        "  model.train()\n",
        "  optimizer.zero_grad()\n",
        "  predictions = model(X)\n",
        "  loss = criterion(predictions,Y)\n",
        "  loss.backward()\n",
        "  optimizer.step()\n",
        "\n",
        "  train_loss.append(loss.data)\n",
        "  model.eval()\n",
        "  Y_test = model(X_test)\n",
        "  loss = criterion(Y_test, 2*X_test)\n",
        "  test_loss.append(loss.data)\n",
        "\n",
        "  if (epoch % 500 == 0 or epoch == max_epochs - 1):\n",
        "    running_predictions[:, iters] = Y_test[:, 0, 0].detach().numpy()\n",
        "    iters += 1"
      ]
    },
    {
      "cell_type": "code",
      "execution_count": 45,
      "metadata": {
        "execution": {},
        "id": "6HVi4v5j_bCJ",
        "colab": {
          "base_uri": "https://localhost:8080/",
          "height": 67,
          "referenced_widgets": [
            "3f7146525e524a1f94c33c95cb43ba41",
            "ec6664d071834776b3a735face56fc6c",
            "045111af0dd946908812875fbd5362a7",
            "8e71d0a16eae4eba9f32401fe75a7901",
            "7f2fbb0cc4f843e09a2880f758323d3e",
            "2f1af18a9b96449580aece3f82d0e02a",
            "ab44d7280e654166acc64f2ec50cc884",
            "21ef92ce9ed74942bed8de6cf54fc1c4",
            "704505b830ae4ebcafc316cb40145ec5",
            "f95fc80cd3bf4c18a5d2c8a8e11f28a0",
            "cdccf4b17f35467b9fa5b5e8f4d48e59"
          ]
        },
        "outputId": "4a0e83bf-b7a3-4cea-c610-7941bd79534d"
      },
      "outputs": [
        {
          "output_type": "stream",
          "name": "stdout",
          "text": [
            "Random seed 2021 has been set.\n"
          ]
        },
        {
          "output_type": "display_data",
          "data": {
            "text/plain": [
              "  0%|          | 0/10000 [00:00<?, ?it/s]"
            ],
            "application/vnd.jupyter.widget-view+json": {
              "version_major": 2,
              "version_minor": 0,
              "model_id": "3f7146525e524a1f94c33c95cb43ba41"
            }
          },
          "metadata": {}
        }
      ],
      "source": [
        "# Train the network on toy dataset\n",
        "\n",
        "# Initialize the model\n",
        "set_seed(seed=SEED)\n",
        "model = NetDropout()\n",
        "criterion = nn.MSELoss()\n",
        "optimizer = optim.Adam(model.parameters(), lr=1e-4)\n",
        "max_epochs = 10000\n",
        "iters = 0\n",
        "\n",
        "running_predictions_dp = np.empty((40, (int)(max_epochs / 500)))\n",
        "\n",
        "train_loss_dp = []\n",
        "test_loss_dp = []\n",
        "model_norm_dp = []\n",
        "\n",
        "for epoch in tqdm(range(max_epochs)):\n",
        "\n",
        "  # Training\n",
        "  model_norm_dp.append(calculate_frobenius_norm(model))\n",
        "  model.train()\n",
        "  optimizer.zero_grad()\n",
        "  predictions = model(X)\n",
        "  loss = criterion(predictions, Y)\n",
        "  loss.backward()\n",
        "  optimizer.step()\n",
        "\n",
        "  train_loss_dp.append(loss.data)\n",
        "  model.eval()\n",
        "  Y_test = model(X_test)\n",
        "  loss = criterion(Y_test, 2*X_test)\n",
        "  test_loss_dp.append(loss.data)\n",
        "\n",
        "  if (epoch % 500 == 0 or epoch == max_epochs):\n",
        "    running_predictions_dp[:, iters] = Y_test[:, 0, 0].detach().numpy()\n",
        "    iters += 1"
      ]
    },
    {
      "cell_type": "markdown",
      "metadata": {
        "execution": {},
        "id": "QH6er7D4_bCJ"
      },
      "source": [
        "Now that we have finished the training, let's see how the model has evolved over the training process."
      ]
    },
    {
      "cell_type": "code",
      "execution_count": null,
      "metadata": {
        "cellView": "form",
        "execution": {},
        "id": "qMBRRKIh_bCJ"
      },
      "outputs": [],
      "source": [
        "# @markdown Animation! (Run Me!)\n",
        "set_seed(seed=SEED)\n",
        "\n",
        "fig = plt.figure(figsize=(8, 6))\n",
        "ax = plt.axes()\n",
        "\n",
        "def frame(i):\n",
        "  ax.clear()\n",
        "  ax.scatter(X[:, 0, :].numpy(), Y[:, 0, :].numpy())\n",
        "  plot = ax.plot(X_test[:, 0, :].detach().numpy(),\n",
        "                 running_predictions_dp[:, i])\n",
        "  title = f\"Epoch: {i*500}\"\n",
        "  plt.title(title)\n",
        "  ax.set_xlabel(\"X axis\")\n",
        "  ax.set_ylabel(\"Y axis\")\n",
        "  return plot\n",
        "\n",
        "\n",
        "anim = animation.FuncAnimation(fig, frame, frames=range(20),\n",
        "                               blit=False, repeat=False,\n",
        "                               repeat_delay=10000)\n",
        "html_anim = HTML(anim.to_html5_video());\n",
        "plt.close()\n",
        "display(html_anim)"
      ]
    },
    {
      "cell_type": "code",
      "execution_count": null,
      "metadata": {
        "cellView": "form",
        "execution": {},
        "id": "ORsXovug_bCJ"
      },
      "outputs": [],
      "source": [
        "# @markdown Plot the train and test losses with epoch\n",
        "\n",
        "plt.figure()\n",
        "plt.plot(test_loss_dp, label='Test loss dropout', c='blue', ls='dashed')\n",
        "plt.plot(test_loss, label='Test loss', c='red', ls='dashed')\n",
        "plt.ylabel('Loss')\n",
        "plt.xlabel('Epochs')\n",
        "plt.title('Dropout vs Without dropout')\n",
        "plt.legend()\n",
        "plt.show()"
      ]
    },
    {
      "cell_type": "code",
      "execution_count": null,
      "metadata": {
        "cellView": "form",
        "execution": {},
        "id": "Gg3jdAKo_bCJ"
      },
      "outputs": [],
      "source": [
        "# @markdown Plot the train and test losses with epoch\n",
        "\n",
        "plt.figure()\n",
        "plt.plot(train_loss_dp, label='Train loss dropout', c='blue', ls='dashed')\n",
        "plt.plot(train_loss, label='Train loss', c='red', ls='dashed')\n",
        "plt.ylabel('Loss')\n",
        "plt.xlabel('Epochs')\n",
        "plt.title('Dropout vs Without dropout')\n",
        "plt.legend()\n",
        "plt.show()"
      ]
    },
    {
      "cell_type": "code",
      "execution_count": null,
      "metadata": {
        "cellView": "form",
        "execution": {},
        "id": "jeGMgKbn_bCJ"
      },
      "outputs": [],
      "source": [
        "# @markdown Plot model weights with epoch\n",
        "plt.figure()\n",
        "plt.plot(model_norm_dp, label='Dropout')\n",
        "plt.plot(model_norm, label='No dropout')\n",
        "plt.ylabel('Norm of the model')\n",
        "plt.xlabel('Epochs')\n",
        "plt.legend()\n",
        "plt.title('Size of the model vs Epochs')\n",
        "plt.show()"
      ]
    },
    {
      "cell_type": "markdown",
      "metadata": {
        "execution": {},
        "id": "HQeKcakJ_bCJ"
      },
      "source": [
        "## Think 2.1!: Dropout\n",
        "\n",
        "Do you think this (with dropout) performed better than the initial model (without dropout)?"
      ]
    },
    {
      "cell_type": "code",
      "execution_count": null,
      "metadata": {
        "execution": {},
        "id": "U6N4Z4Gz_bCJ"
      },
      "outputs": [],
      "source": [
        "# TODO: Complete Answer\n",
        "\n",
        "\"\"\"\n",
        "\n",
        "\"\"\";"
      ]
    },
    {
      "cell_type": "markdown",
      "metadata": {
        "execution": {},
        "id": "wtk7chHd_bCJ"
      },
      "source": [
        "## Section 2.1: Dropout Implementation Caveats"
      ]
    },
    {
      "cell_type": "markdown",
      "metadata": {
        "execution": {},
        "id": "83i7CFSX_bCJ"
      },
      "source": [
        "* Dropout is used only during training. However, the complete model weights are used during testing, so it is vital to use the `model.eval()` method before testing the model.\n",
        "\n",
        "* Dropout reduces the capacity of the model during training, and hence as a general practice, wider networks are used when using dropout. If you are using a dropout with a random probability of 0.5, you might want to double the number of hidden neurons in that layer."
      ]
    },
    {
      "cell_type": "markdown",
      "metadata": {
        "execution": {},
        "id": "2oTrG4A-_bCK"
      },
      "source": [
        "Now, let's see how dropout fares on the “Animal Faces” dataset. We first modify the existing model to include dropout and then train it."
      ]
    },
    {
      "cell_type": "code",
      "execution_count": null,
      "metadata": {
        "execution": {},
        "id": "K7Eineqf_bCK"
      },
      "outputs": [],
      "source": [
        "class AnimalNetDropout(nn.Module):\n",
        "  \"\"\"\n",
        "  Network Class - Animal Faces with following structure\n",
        "  nn.Linear(3*32*32, 248) + leaky_relu(self.dropout1(self.fc1(x))) # First fully connected layer with 0.5 dropout\n",
        "  nn.Linear(248, 210) + leaky_relu(self.dropout2(self.fc2(x))) # Second fully connected layer with 0.3 dropout\n",
        "  nn.Linear(210, 3) # Final fully connected layer\n",
        "  \"\"\"\n",
        "\n",
        "  def __init__(self):\n",
        "    \"\"\"\n",
        "    Initialize parameters of AnimalNetDropout\n",
        "\n",
        "    Args:\n",
        "      None\n",
        "\n",
        "    Returns:\n",
        "      Nothing\n",
        "    \"\"\"\n",
        "    super(AnimalNetDropout, self).__init__()\n",
        "    self.fc1 = nn.Linear(3*32*32, 248)\n",
        "    self.fc2 = nn.Linear(248, 210)\n",
        "    self.fc3 = nn.Linear(210, 3)\n",
        "    self.dropout1 = nn.Dropout(p=0.5)\n",
        "    self.dropout2 = nn.Dropout(p=0.3)\n",
        "\n",
        "  def forward(self, x):\n",
        "    \"\"\"\n",
        "    Forward pass of AnimalNetDropout\n",
        "\n",
        "    Args:\n",
        "      x: torch.tensor\n",
        "        Input features\n",
        "\n",
        "    Returns:\n",
        "      x: torch.tensor\n",
        "        Output/Predictions\n",
        "    \"\"\"\n",
        "    x = x.view(x.shape[0], -1)\n",
        "    x = F.leaky_relu(self.dropout1(self.fc1(x)))\n",
        "    x = F.leaky_relu(self.dropout2(self.fc2(x)))\n",
        "    x = self.fc3(x)\n",
        "    output = F.log_softmax(x, dim=1)\n",
        "    return output"
      ]
    },
    {
      "cell_type": "code",
      "execution_count": null,
      "metadata": {
        "execution": {},
        "id": "bpj8fc8x_bCK"
      },
      "outputs": [],
      "source": [
        "# Set the arguments\n",
        "args = {\n",
        "    'test_batch_size': 1000,\n",
        "    'epochs': 200,\n",
        "    'lr': 5e-3,\n",
        "    'batch_size': 32,\n",
        "    'momentum': 0.9,\n",
        "    'device': DEVICE,\n",
        "    'log_interval': 100\n",
        "}\n",
        "\n",
        "# Initialize the model\n",
        "set_seed(seed=SEED)\n",
        "model = AnimalNetDropout()\n",
        "\n",
        "# Train the model with Dropout\n",
        "val_acc_dropout, train_acc_dropout, _, model_dp = main(args,\n",
        "                                                       model,\n",
        "                                                       train_loader,\n",
        "                                                       val_loader,\n",
        "                                                       img_test_dataset)\n",
        "\n",
        "# Initialize the BigAnimalNet model\n",
        "set_seed(seed=SEED)\n",
        "model = BigAnimalNet()\n",
        "\n",
        "# Train the model\n",
        "val_acc_big, train_acc_big, _, model_big = main(args,\n",
        "                                                model,\n",
        "                                                train_loader,\n",
        "                                                val_loader,\n",
        "                                                img_test_dataset)\n",
        "\n",
        "\n",
        "# Train and Test accuracy plot\n",
        "plt.figure()\n",
        "plt.plot(val_acc_big, label='Val - Big', c='blue', ls='dashed')\n",
        "plt.plot(train_acc_big, label='Train - Big', c='blue', ls='solid')\n",
        "plt.plot(val_acc_dropout, label='Val - DP', c='magenta', ls='dashed')\n",
        "plt.plot(train_acc_dropout, label='Train - DP', c='magenta', ls='solid')\n",
        "plt.title('Dropout')\n",
        "plt.ylabel('Accuracy (%)')\n",
        "plt.xlabel('Epoch')\n",
        "plt.legend()\n",
        "plt.show()"
      ]
    },
    {
      "cell_type": "markdown",
      "metadata": {
        "execution": {},
        "id": "LQ4qiTWn_bCK"
      },
      "source": [
        "### Think 2.2! Dropout caveats\n",
        "\n",
        "When do you think dropouts can perform bad and do you think their placement within a model matters?"
      ]
    },
    {
      "cell_type": "code",
      "execution_count": null,
      "metadata": {
        "execution": {},
        "id": "l002gROm_bCK"
      },
      "outputs": [],
      "source": [
        "# TODO: Complete Answer\n",
        "\n",
        "\"\"\"\n",
        "\n",
        "\"\"\";"
      ]
    },
    {
      "cell_type": "markdown",
      "metadata": {
        "execution": {},
        "id": "uvE_M1Xb_bCK"
      },
      "source": [
        "---\n",
        "# Section 3: Data Augmentation\n",
        "\n",
        "*Time estimate: ~15 mins*\n"
      ]
    },
    {
      "cell_type": "markdown",
      "metadata": {
        "execution": {},
        "id": "RoKByVV6_bCK"
      },
      "source": [
        "Data augmentation is often used to increase the number of training samples. Now we will explore the effects of data augmentation on regularization. Here regularization is achieved by adding noise into training data after every epoch.\n",
        "\n",
        "PyTorch's torchvision module provides a few built-in data augmentation techniques, which we can use on image datasets. Some of the techniques we most frequently use are:\n",
        "\n",
        "* Random Crop\n",
        "* Random Rotate\n",
        "* Vertical Flip\n",
        "* Horizontal Flip"
      ]
    },
    {
      "cell_type": "code",
      "execution_count": null,
      "metadata": {
        "cellView": "form",
        "execution": {},
        "id": "SCdwoa0Z_bCK"
      },
      "outputs": [],
      "source": [
        "# @markdown ####  Data Loader without Data Augmentation\n",
        "\n",
        "# For reproducibility\n",
        "g_seed = torch.Generator()\n",
        "g_seed.manual_seed(SEED)\n",
        "\n",
        "\n",
        "train_transform = transforms.Compose([\n",
        "     transforms.ToTensor(),\n",
        "     transforms.Normalize((0.5, 0.5, 0.5), (0.5, 0.5, 0.5))\n",
        "     ])\n",
        "data_path = pathlib.Path('.')/'afhq' # Using pathlib to be compatible with all OS's\n",
        "img_dataset = ImageFolder(data_path/'train', transform=train_transform)\n",
        "\n",
        "# Splitting dataset\n",
        "img_train_data, img_val_data,_ = torch.utils.data.random_split(img_dataset, [250,100,14280])\n",
        "\n",
        "# Creating train_loader and Val_loader\n",
        "train_loader = torch.utils.data.DataLoader(img_train_data,\n",
        "                                           batch_size=batch_size,\n",
        "                                           num_workers=2,\n",
        "                                           worker_init_fn=seed_worker,\n",
        "                                           generator=g_seed)\n",
        "val_loader = torch.utils.data.DataLoader(img_val_data,\n",
        "                                         batch_size=1000,\n",
        "                                         num_workers=2,\n",
        "                                         worker_init_fn=seed_worker,\n",
        "                                         generator=g_seed)"
      ]
    },
    {
      "cell_type": "markdown",
      "metadata": {
        "execution": {},
        "id": "r8XcqaHu_bCK"
      },
      "source": [
        "Define a DataLoader using `torchvision.transforms`, which randomly augments the data for us. For more info, see [here](https://pytorch.org/vision/stable/transforms.html)."
      ]
    },
    {
      "cell_type": "code",
      "execution_count": null,
      "metadata": {
        "execution": {},
        "id": "L9_USUcR_bCK"
      },
      "outputs": [],
      "source": [
        "# Data Augmentation using transforms\n",
        "new_transforms = transforms.Compose([\n",
        "                                     transforms.RandomHorizontalFlip(p=0.1),\n",
        "                                     transforms.RandomVerticalFlip(p=0.1),\n",
        "                                     transforms.ToTensor(),\n",
        "                                     transforms.Normalize((0.5, 0.5, 0.5),\n",
        "                                                          (0.5, 0.5, 0.5))\n",
        "                                     ])\n",
        "\n",
        "data_path = pathlib.Path('.')/'afhq'  # Using pathlib to be compatible with all OS's\n",
        "img_dataset = ImageFolder(data_path/'train', transform=new_transforms)\n",
        "# Splitting dataset\n",
        "new_train_data, _,_ = torch.utils.data.random_split(img_dataset,\n",
        "                                                    [250, 100, 14280])\n",
        "\n",
        "# For reproducibility\n",
        "g_seed = torch.Generator()\n",
        "g_seed.manual_seed(SEED)\n",
        "\n",
        "# Creating train_loader and Val_loader\n",
        "new_train_loader = torch.utils.data.DataLoader(new_train_data,\n",
        "                                               batch_size=batch_size,\n",
        "                                               worker_init_fn=seed_worker,\n",
        "                                               generator=g_seed)"
      ]
    },
    {
      "cell_type": "code",
      "execution_count": null,
      "metadata": {
        "execution": {},
        "id": "kxHGNsJz_bCK"
      },
      "outputs": [],
      "source": [
        "# Set the arguments\n",
        "args = {\n",
        "    'epochs': 250,\n",
        "    'lr': 1e-3,\n",
        "    'momentum': 0.99,\n",
        "    'device': DEVICE,\n",
        "}\n",
        "\n",
        "# Initialize the model\n",
        "set_seed(seed=SEED)\n",
        "model_aug = AnimalNet()\n",
        "\n",
        "# Train the model\n",
        "val_acc_dataaug, train_acc_dataaug, param_norm_dataaug, _ = main(args,\n",
        "                                                                 model_aug,\n",
        "                                                                 new_train_loader,\n",
        "                                                                 val_loader,\n",
        "                                                                 img_test_dataset)\n",
        "# Initialize the model\n",
        "set_seed(seed=SEED)\n",
        "model_pure = AnimalNet()\n",
        "\n",
        "val_acc_pure, train_acc_pure, param_norm_pure, _, = main(args,\n",
        "                                                         model_pure,\n",
        "                                                         train_loader,\n",
        "                                                         val_loader,\n",
        "                                                         img_test_dataset)\n",
        "\n",
        "\n",
        "# Train and Test accuracy plot\n",
        "plt.figure()\n",
        "plt.plot(val_acc_pure, label='Val Accuracy Pure',\n",
        "         c='red', ls='dashed')\n",
        "plt.plot(train_acc_pure, label='Train Accuracy Pure',\n",
        "         c='red', ls='solid')\n",
        "plt.plot(val_acc_dataaug, label='Val Accuracy data augment',\n",
        "         c='blue', ls='dashed')\n",
        "plt.plot(train_acc_dataaug, label='Train Accuracy data augment',\n",
        "         c='blue', ls='solid')\n",
        "plt.axhline(y=max(val_acc_pure), c='red', ls='dashed')\n",
        "plt.axhline(y=max(val_acc_dataaug), c='blue', ls='dashed')\n",
        "plt.title('Data Augmentation')\n",
        "plt.ylabel('Accuracy (%)')\n",
        "plt.xlabel('Epoch')\n",
        "plt.legend()\n",
        "plt.show()"
      ]
    },
    {
      "cell_type": "code",
      "execution_count": null,
      "metadata": {
        "execution": {},
        "id": "EyX5fyXC_bCK"
      },
      "outputs": [],
      "source": [
        "# Plot together: without and with augmentation\n",
        "plt.figure()\n",
        "plt.plot([i.cpu().numpy().item() for i in param_norm_pure],\n",
        "         c='red', label='Without Augmentation')\n",
        "plt.plot([i.cpu().numpy().item() for i in param_norm_dataaug],\n",
        "         c='blue', label='With Augmentation')\n",
        "plt.title('Norm of parameters as a function of training epoch')\n",
        "plt.xlabel('Epoch')\n",
        "plt.ylabel('Norm of model parameters')\n",
        "plt.legend()\n",
        "plt.show()"
      ]
    },
    {
      "cell_type": "markdown",
      "metadata": {
        "execution": {},
        "id": "GeogCdr2_bCK"
      },
      "source": [
        "### Think 3.1!: Data Augmentation\n",
        "\n",
        "Can you think of more ways of augmenting the training data? (Think of other problems beyond object recognition.)"
      ]
    },
    {
      "cell_type": "code",
      "execution_count": null,
      "metadata": {
        "execution": {},
        "id": "PmoGSeEa_bCK"
      },
      "outputs": [],
      "source": [
        "# TODO: Complete Answer\n",
        "\n",
        "\"\"\"\n",
        "\n",
        "\"\"\";"
      ]
    },
    {
      "cell_type": "markdown",
      "metadata": {
        "execution": {},
        "id": "dT7W4-OA_bCK"
      },
      "source": [
        "### Think! 3.2!: Overparameterized vs. Small NN\n",
        "\n",
        "Why is it better to regularize an overparameterized ANN than to start with a smaller one? Think about the regularization methods you know. Each group should have a 10 min discussion."
      ]
    },
    {
      "cell_type": "code",
      "execution_count": null,
      "metadata": {
        "execution": {},
        "id": "hX_snaXp_bCK"
      },
      "outputs": [],
      "source": [
        "# TODO: Complete Answer\n",
        "\n",
        "\"\"\"\n",
        "\n",
        "\"\"\";"
      ]
    },
    {
      "cell_type": "markdown",
      "source": [
        "# Acknowledgement\n",
        "Material is based on [Neuromatch](https://github.com/NeuromatchAcademy/course-content-dl/tree/main/tutorials)"
      ],
      "metadata": {
        "id": "h9K410vzFLBB"
      }
    }
  ],
  "metadata": {
    "accelerator": "GPU",
    "colab": {
      "provenance": [],
      "toc_visible": true
    },
    "kernel": {
      "display_name": "Python 3",
      "language": "python",
      "name": "python3"
    },
    "kernelspec": {
      "display_name": "Python 3",
      "name": "python3"
    },
    "widgets": {
      "application/vnd.jupyter.widget-state+json": {
        "fddd435310774f46a8c7351f76471a28": {
          "model_module": "@jupyter-widgets/controls",
          "model_name": "HBoxModel",
          "model_module_version": "1.5.0",
          "state": {
            "_dom_classes": [],
            "_model_module": "@jupyter-widgets/controls",
            "_model_module_version": "1.5.0",
            "_model_name": "HBoxModel",
            "_view_count": null,
            "_view_module": "@jupyter-widgets/controls",
            "_view_module_version": "1.5.0",
            "_view_name": "HBoxView",
            "box_style": "",
            "children": [
              "IPY_MODEL_5a8e13e2713042078619df5a38e7cc2e",
              "IPY_MODEL_f446c2b4ca4a4297aec9849164838ec7",
              "IPY_MODEL_dfae9523f85d4497910748beead8341a"
            ],
            "layout": "IPY_MODEL_d1747b36239245dd9a59139f9a8437ae"
          }
        },
        "5a8e13e2713042078619df5a38e7cc2e": {
          "model_module": "@jupyter-widgets/controls",
          "model_name": "HTMLModel",
          "model_module_version": "1.5.0",
          "state": {
            "_dom_classes": [],
            "_model_module": "@jupyter-widgets/controls",
            "_model_module_version": "1.5.0",
            "_model_name": "HTMLModel",
            "_view_count": null,
            "_view_module": "@jupyter-widgets/controls",
            "_view_module_version": "1.5.0",
            "_view_name": "HTMLView",
            "description": "",
            "description_tooltip": null,
            "layout": "IPY_MODEL_3f3542e58fcb44f09942674328abd48c",
            "placeholder": "​",
            "style": "IPY_MODEL_5301cff9be8d4ec0895d581c2fd74e03",
            "value": "100%"
          }
        },
        "f446c2b4ca4a4297aec9849164838ec7": {
          "model_module": "@jupyter-widgets/controls",
          "model_name": "FloatProgressModel",
          "model_module_version": "1.5.0",
          "state": {
            "_dom_classes": [],
            "_model_module": "@jupyter-widgets/controls",
            "_model_module_version": "1.5.0",
            "_model_name": "FloatProgressModel",
            "_view_count": null,
            "_view_module": "@jupyter-widgets/controls",
            "_view_module_version": "1.5.0",
            "_view_name": "ProgressView",
            "bar_style": "success",
            "description": "",
            "description_tooltip": null,
            "layout": "IPY_MODEL_145a926180204fefa6f3b8512930f859",
            "max": 150,
            "min": 0,
            "orientation": "horizontal",
            "style": "IPY_MODEL_cf9167a35f2f44aab836a1dfcbb06293",
            "value": 150
          }
        },
        "dfae9523f85d4497910748beead8341a": {
          "model_module": "@jupyter-widgets/controls",
          "model_name": "HTMLModel",
          "model_module_version": "1.5.0",
          "state": {
            "_dom_classes": [],
            "_model_module": "@jupyter-widgets/controls",
            "_model_module_version": "1.5.0",
            "_model_name": "HTMLModel",
            "_view_count": null,
            "_view_module": "@jupyter-widgets/controls",
            "_view_module_version": "1.5.0",
            "_view_name": "HTMLView",
            "description": "",
            "description_tooltip": null,
            "layout": "IPY_MODEL_5d9d96295fc542e9a116a040e3dc6a72",
            "placeholder": "​",
            "style": "IPY_MODEL_814ef64e2c394453b4eadc5495b613f9",
            "value": " 150/150 [00:45&lt;00:00,  3.53it/s]"
          }
        },
        "d1747b36239245dd9a59139f9a8437ae": {
          "model_module": "@jupyter-widgets/base",
          "model_name": "LayoutModel",
          "model_module_version": "1.2.0",
          "state": {
            "_model_module": "@jupyter-widgets/base",
            "_model_module_version": "1.2.0",
            "_model_name": "LayoutModel",
            "_view_count": null,
            "_view_module": "@jupyter-widgets/base",
            "_view_module_version": "1.2.0",
            "_view_name": "LayoutView",
            "align_content": null,
            "align_items": null,
            "align_self": null,
            "border": null,
            "bottom": null,
            "display": null,
            "flex": null,
            "flex_flow": null,
            "grid_area": null,
            "grid_auto_columns": null,
            "grid_auto_flow": null,
            "grid_auto_rows": null,
            "grid_column": null,
            "grid_gap": null,
            "grid_row": null,
            "grid_template_areas": null,
            "grid_template_columns": null,
            "grid_template_rows": null,
            "height": null,
            "justify_content": null,
            "justify_items": null,
            "left": null,
            "margin": null,
            "max_height": null,
            "max_width": null,
            "min_height": null,
            "min_width": null,
            "object_fit": null,
            "object_position": null,
            "order": null,
            "overflow": null,
            "overflow_x": null,
            "overflow_y": null,
            "padding": null,
            "right": null,
            "top": null,
            "visibility": null,
            "width": null
          }
        },
        "3f3542e58fcb44f09942674328abd48c": {
          "model_module": "@jupyter-widgets/base",
          "model_name": "LayoutModel",
          "model_module_version": "1.2.0",
          "state": {
            "_model_module": "@jupyter-widgets/base",
            "_model_module_version": "1.2.0",
            "_model_name": "LayoutModel",
            "_view_count": null,
            "_view_module": "@jupyter-widgets/base",
            "_view_module_version": "1.2.0",
            "_view_name": "LayoutView",
            "align_content": null,
            "align_items": null,
            "align_self": null,
            "border": null,
            "bottom": null,
            "display": null,
            "flex": null,
            "flex_flow": null,
            "grid_area": null,
            "grid_auto_columns": null,
            "grid_auto_flow": null,
            "grid_auto_rows": null,
            "grid_column": null,
            "grid_gap": null,
            "grid_row": null,
            "grid_template_areas": null,
            "grid_template_columns": null,
            "grid_template_rows": null,
            "height": null,
            "justify_content": null,
            "justify_items": null,
            "left": null,
            "margin": null,
            "max_height": null,
            "max_width": null,
            "min_height": null,
            "min_width": null,
            "object_fit": null,
            "object_position": null,
            "order": null,
            "overflow": null,
            "overflow_x": null,
            "overflow_y": null,
            "padding": null,
            "right": null,
            "top": null,
            "visibility": null,
            "width": null
          }
        },
        "5301cff9be8d4ec0895d581c2fd74e03": {
          "model_module": "@jupyter-widgets/controls",
          "model_name": "DescriptionStyleModel",
          "model_module_version": "1.5.0",
          "state": {
            "_model_module": "@jupyter-widgets/controls",
            "_model_module_version": "1.5.0",
            "_model_name": "DescriptionStyleModel",
            "_view_count": null,
            "_view_module": "@jupyter-widgets/base",
            "_view_module_version": "1.2.0",
            "_view_name": "StyleView",
            "description_width": ""
          }
        },
        "145a926180204fefa6f3b8512930f859": {
          "model_module": "@jupyter-widgets/base",
          "model_name": "LayoutModel",
          "model_module_version": "1.2.0",
          "state": {
            "_model_module": "@jupyter-widgets/base",
            "_model_module_version": "1.2.0",
            "_model_name": "LayoutModel",
            "_view_count": null,
            "_view_module": "@jupyter-widgets/base",
            "_view_module_version": "1.2.0",
            "_view_name": "LayoutView",
            "align_content": null,
            "align_items": null,
            "align_self": null,
            "border": null,
            "bottom": null,
            "display": null,
            "flex": null,
            "flex_flow": null,
            "grid_area": null,
            "grid_auto_columns": null,
            "grid_auto_flow": null,
            "grid_auto_rows": null,
            "grid_column": null,
            "grid_gap": null,
            "grid_row": null,
            "grid_template_areas": null,
            "grid_template_columns": null,
            "grid_template_rows": null,
            "height": null,
            "justify_content": null,
            "justify_items": null,
            "left": null,
            "margin": null,
            "max_height": null,
            "max_width": null,
            "min_height": null,
            "min_width": null,
            "object_fit": null,
            "object_position": null,
            "order": null,
            "overflow": null,
            "overflow_x": null,
            "overflow_y": null,
            "padding": null,
            "right": null,
            "top": null,
            "visibility": null,
            "width": null
          }
        },
        "cf9167a35f2f44aab836a1dfcbb06293": {
          "model_module": "@jupyter-widgets/controls",
          "model_name": "ProgressStyleModel",
          "model_module_version": "1.5.0",
          "state": {
            "_model_module": "@jupyter-widgets/controls",
            "_model_module_version": "1.5.0",
            "_model_name": "ProgressStyleModel",
            "_view_count": null,
            "_view_module": "@jupyter-widgets/base",
            "_view_module_version": "1.2.0",
            "_view_name": "StyleView",
            "bar_color": null,
            "description_width": ""
          }
        },
        "5d9d96295fc542e9a116a040e3dc6a72": {
          "model_module": "@jupyter-widgets/base",
          "model_name": "LayoutModel",
          "model_module_version": "1.2.0",
          "state": {
            "_model_module": "@jupyter-widgets/base",
            "_model_module_version": "1.2.0",
            "_model_name": "LayoutModel",
            "_view_count": null,
            "_view_module": "@jupyter-widgets/base",
            "_view_module_version": "1.2.0",
            "_view_name": "LayoutView",
            "align_content": null,
            "align_items": null,
            "align_self": null,
            "border": null,
            "bottom": null,
            "display": null,
            "flex": null,
            "flex_flow": null,
            "grid_area": null,
            "grid_auto_columns": null,
            "grid_auto_flow": null,
            "grid_auto_rows": null,
            "grid_column": null,
            "grid_gap": null,
            "grid_row": null,
            "grid_template_areas": null,
            "grid_template_columns": null,
            "grid_template_rows": null,
            "height": null,
            "justify_content": null,
            "justify_items": null,
            "left": null,
            "margin": null,
            "max_height": null,
            "max_width": null,
            "min_height": null,
            "min_width": null,
            "object_fit": null,
            "object_position": null,
            "order": null,
            "overflow": null,
            "overflow_x": null,
            "overflow_y": null,
            "padding": null,
            "right": null,
            "top": null,
            "visibility": null,
            "width": null
          }
        },
        "814ef64e2c394453b4eadc5495b613f9": {
          "model_module": "@jupyter-widgets/controls",
          "model_name": "DescriptionStyleModel",
          "model_module_version": "1.5.0",
          "state": {
            "_model_module": "@jupyter-widgets/controls",
            "_model_module_version": "1.5.0",
            "_model_name": "DescriptionStyleModel",
            "_view_count": null,
            "_view_module": "@jupyter-widgets/base",
            "_view_module_version": "1.2.0",
            "_view_name": "StyleView",
            "description_width": ""
          }
        },
        "a646512854714c6faf3039015dc8092e": {
          "model_module": "@jupyter-widgets/controls",
          "model_name": "HBoxModel",
          "model_module_version": "1.5.0",
          "state": {
            "_dom_classes": [],
            "_model_module": "@jupyter-widgets/controls",
            "_model_module_version": "1.5.0",
            "_model_name": "HBoxModel",
            "_view_count": null,
            "_view_module": "@jupyter-widgets/controls",
            "_view_module_version": "1.5.0",
            "_view_name": "HBoxView",
            "box_style": "",
            "children": [
              "IPY_MODEL_0458503a7d6b46cbb968e627ea620dcc",
              "IPY_MODEL_2d99f80dd9934d1bb62531c071e5e7c5",
              "IPY_MODEL_628d95efffd64ee6a2018c2ff0aa2c89"
            ],
            "layout": "IPY_MODEL_47eacefefa764472aa5ab82f1b234125"
          }
        },
        "0458503a7d6b46cbb968e627ea620dcc": {
          "model_module": "@jupyter-widgets/controls",
          "model_name": "HTMLModel",
          "model_module_version": "1.5.0",
          "state": {
            "_dom_classes": [],
            "_model_module": "@jupyter-widgets/controls",
            "_model_module_version": "1.5.0",
            "_model_name": "HTMLModel",
            "_view_count": null,
            "_view_module": "@jupyter-widgets/controls",
            "_view_module_version": "1.5.0",
            "_view_name": "HTMLView",
            "description": "",
            "description_tooltip": null,
            "layout": "IPY_MODEL_ef308bf2a17d4f71a8b6d29774542e16",
            "placeholder": "​",
            "style": "IPY_MODEL_7e9f61668dcb46d7ae0ec4585e9deb95",
            "value": "100%"
          }
        },
        "2d99f80dd9934d1bb62531c071e5e7c5": {
          "model_module": "@jupyter-widgets/controls",
          "model_name": "FloatProgressModel",
          "model_module_version": "1.5.0",
          "state": {
            "_dom_classes": [],
            "_model_module": "@jupyter-widgets/controls",
            "_model_module_version": "1.5.0",
            "_model_name": "FloatProgressModel",
            "_view_count": null,
            "_view_module": "@jupyter-widgets/controls",
            "_view_module_version": "1.5.0",
            "_view_name": "ProgressView",
            "bar_style": "success",
            "description": "",
            "description_tooltip": null,
            "layout": "IPY_MODEL_191995ec16c14f1988215595392cb5ee",
            "max": 150,
            "min": 0,
            "orientation": "horizontal",
            "style": "IPY_MODEL_ebb011e009254fc581516cc18d242dbf",
            "value": 150
          }
        },
        "628d95efffd64ee6a2018c2ff0aa2c89": {
          "model_module": "@jupyter-widgets/controls",
          "model_name": "HTMLModel",
          "model_module_version": "1.5.0",
          "state": {
            "_dom_classes": [],
            "_model_module": "@jupyter-widgets/controls",
            "_model_module_version": "1.5.0",
            "_model_name": "HTMLModel",
            "_view_count": null,
            "_view_module": "@jupyter-widgets/controls",
            "_view_module_version": "1.5.0",
            "_view_name": "HTMLView",
            "description": "",
            "description_tooltip": null,
            "layout": "IPY_MODEL_834cc15552f247618caaa59b8b7ddf1d",
            "placeholder": "​",
            "style": "IPY_MODEL_8a5054c7785a4e12a97f18bc20dae942",
            "value": " 150/150 [00:52&lt;00:00,  3.30it/s]"
          }
        },
        "47eacefefa764472aa5ab82f1b234125": {
          "model_module": "@jupyter-widgets/base",
          "model_name": "LayoutModel",
          "model_module_version": "1.2.0",
          "state": {
            "_model_module": "@jupyter-widgets/base",
            "_model_module_version": "1.2.0",
            "_model_name": "LayoutModel",
            "_view_count": null,
            "_view_module": "@jupyter-widgets/base",
            "_view_module_version": "1.2.0",
            "_view_name": "LayoutView",
            "align_content": null,
            "align_items": null,
            "align_self": null,
            "border": null,
            "bottom": null,
            "display": null,
            "flex": null,
            "flex_flow": null,
            "grid_area": null,
            "grid_auto_columns": null,
            "grid_auto_flow": null,
            "grid_auto_rows": null,
            "grid_column": null,
            "grid_gap": null,
            "grid_row": null,
            "grid_template_areas": null,
            "grid_template_columns": null,
            "grid_template_rows": null,
            "height": null,
            "justify_content": null,
            "justify_items": null,
            "left": null,
            "margin": null,
            "max_height": null,
            "max_width": null,
            "min_height": null,
            "min_width": null,
            "object_fit": null,
            "object_position": null,
            "order": null,
            "overflow": null,
            "overflow_x": null,
            "overflow_y": null,
            "padding": null,
            "right": null,
            "top": null,
            "visibility": null,
            "width": null
          }
        },
        "ef308bf2a17d4f71a8b6d29774542e16": {
          "model_module": "@jupyter-widgets/base",
          "model_name": "LayoutModel",
          "model_module_version": "1.2.0",
          "state": {
            "_model_module": "@jupyter-widgets/base",
            "_model_module_version": "1.2.0",
            "_model_name": "LayoutModel",
            "_view_count": null,
            "_view_module": "@jupyter-widgets/base",
            "_view_module_version": "1.2.0",
            "_view_name": "LayoutView",
            "align_content": null,
            "align_items": null,
            "align_self": null,
            "border": null,
            "bottom": null,
            "display": null,
            "flex": null,
            "flex_flow": null,
            "grid_area": null,
            "grid_auto_columns": null,
            "grid_auto_flow": null,
            "grid_auto_rows": null,
            "grid_column": null,
            "grid_gap": null,
            "grid_row": null,
            "grid_template_areas": null,
            "grid_template_columns": null,
            "grid_template_rows": null,
            "height": null,
            "justify_content": null,
            "justify_items": null,
            "left": null,
            "margin": null,
            "max_height": null,
            "max_width": null,
            "min_height": null,
            "min_width": null,
            "object_fit": null,
            "object_position": null,
            "order": null,
            "overflow": null,
            "overflow_x": null,
            "overflow_y": null,
            "padding": null,
            "right": null,
            "top": null,
            "visibility": null,
            "width": null
          }
        },
        "7e9f61668dcb46d7ae0ec4585e9deb95": {
          "model_module": "@jupyter-widgets/controls",
          "model_name": "DescriptionStyleModel",
          "model_module_version": "1.5.0",
          "state": {
            "_model_module": "@jupyter-widgets/controls",
            "_model_module_version": "1.5.0",
            "_model_name": "DescriptionStyleModel",
            "_view_count": null,
            "_view_module": "@jupyter-widgets/base",
            "_view_module_version": "1.2.0",
            "_view_name": "StyleView",
            "description_width": ""
          }
        },
        "191995ec16c14f1988215595392cb5ee": {
          "model_module": "@jupyter-widgets/base",
          "model_name": "LayoutModel",
          "model_module_version": "1.2.0",
          "state": {
            "_model_module": "@jupyter-widgets/base",
            "_model_module_version": "1.2.0",
            "_model_name": "LayoutModel",
            "_view_count": null,
            "_view_module": "@jupyter-widgets/base",
            "_view_module_version": "1.2.0",
            "_view_name": "LayoutView",
            "align_content": null,
            "align_items": null,
            "align_self": null,
            "border": null,
            "bottom": null,
            "display": null,
            "flex": null,
            "flex_flow": null,
            "grid_area": null,
            "grid_auto_columns": null,
            "grid_auto_flow": null,
            "grid_auto_rows": null,
            "grid_column": null,
            "grid_gap": null,
            "grid_row": null,
            "grid_template_areas": null,
            "grid_template_columns": null,
            "grid_template_rows": null,
            "height": null,
            "justify_content": null,
            "justify_items": null,
            "left": null,
            "margin": null,
            "max_height": null,
            "max_width": null,
            "min_height": null,
            "min_width": null,
            "object_fit": null,
            "object_position": null,
            "order": null,
            "overflow": null,
            "overflow_x": null,
            "overflow_y": null,
            "padding": null,
            "right": null,
            "top": null,
            "visibility": null,
            "width": null
          }
        },
        "ebb011e009254fc581516cc18d242dbf": {
          "model_module": "@jupyter-widgets/controls",
          "model_name": "ProgressStyleModel",
          "model_module_version": "1.5.0",
          "state": {
            "_model_module": "@jupyter-widgets/controls",
            "_model_module_version": "1.5.0",
            "_model_name": "ProgressStyleModel",
            "_view_count": null,
            "_view_module": "@jupyter-widgets/base",
            "_view_module_version": "1.2.0",
            "_view_name": "StyleView",
            "bar_color": null,
            "description_width": ""
          }
        },
        "834cc15552f247618caaa59b8b7ddf1d": {
          "model_module": "@jupyter-widgets/base",
          "model_name": "LayoutModel",
          "model_module_version": "1.2.0",
          "state": {
            "_model_module": "@jupyter-widgets/base",
            "_model_module_version": "1.2.0",
            "_model_name": "LayoutModel",
            "_view_count": null,
            "_view_module": "@jupyter-widgets/base",
            "_view_module_version": "1.2.0",
            "_view_name": "LayoutView",
            "align_content": null,
            "align_items": null,
            "align_self": null,
            "border": null,
            "bottom": null,
            "display": null,
            "flex": null,
            "flex_flow": null,
            "grid_area": null,
            "grid_auto_columns": null,
            "grid_auto_flow": null,
            "grid_auto_rows": null,
            "grid_column": null,
            "grid_gap": null,
            "grid_row": null,
            "grid_template_areas": null,
            "grid_template_columns": null,
            "grid_template_rows": null,
            "height": null,
            "justify_content": null,
            "justify_items": null,
            "left": null,
            "margin": null,
            "max_height": null,
            "max_width": null,
            "min_height": null,
            "min_width": null,
            "object_fit": null,
            "object_position": null,
            "order": null,
            "overflow": null,
            "overflow_x": null,
            "overflow_y": null,
            "padding": null,
            "right": null,
            "top": null,
            "visibility": null,
            "width": null
          }
        },
        "8a5054c7785a4e12a97f18bc20dae942": {
          "model_module": "@jupyter-widgets/controls",
          "model_name": "DescriptionStyleModel",
          "model_module_version": "1.5.0",
          "state": {
            "_model_module": "@jupyter-widgets/controls",
            "_model_module_version": "1.5.0",
            "_model_name": "DescriptionStyleModel",
            "_view_count": null,
            "_view_module": "@jupyter-widgets/base",
            "_view_module_version": "1.2.0",
            "_view_name": "StyleView",
            "description_width": ""
          }
        },
        "4352e091ecd44261a322bb798b3edc46": {
          "model_module": "@jupyter-widgets/controls",
          "model_name": "HBoxModel",
          "model_module_version": "1.5.0",
          "state": {
            "_dom_classes": [],
            "_model_module": "@jupyter-widgets/controls",
            "_model_module_version": "1.5.0",
            "_model_name": "HBoxModel",
            "_view_count": null,
            "_view_module": "@jupyter-widgets/controls",
            "_view_module_version": "1.5.0",
            "_view_name": "HBoxView",
            "box_style": "",
            "children": [
              "IPY_MODEL_14131370df2944e4a577f39be43efca9",
              "IPY_MODEL_14c06fc5636a4a48974def71188dd987",
              "IPY_MODEL_2c71ce802a514fcbb3a84033a19ff7c1"
            ],
            "layout": "IPY_MODEL_6d07b7f2c76b48c08ddeb65323c35373"
          }
        },
        "14131370df2944e4a577f39be43efca9": {
          "model_module": "@jupyter-widgets/controls",
          "model_name": "HTMLModel",
          "model_module_version": "1.5.0",
          "state": {
            "_dom_classes": [],
            "_model_module": "@jupyter-widgets/controls",
            "_model_module_version": "1.5.0",
            "_model_name": "HTMLModel",
            "_view_count": null,
            "_view_module": "@jupyter-widgets/controls",
            "_view_module_version": "1.5.0",
            "_view_name": "HTMLView",
            "description": "",
            "description_tooltip": null,
            "layout": "IPY_MODEL_16e66ac75e744c2caca463fd4427c1ec",
            "placeholder": "​",
            "style": "IPY_MODEL_02dbabce0c2443268de750bc6e0e8c1b",
            "value": "100%"
          }
        },
        "14c06fc5636a4a48974def71188dd987": {
          "model_module": "@jupyter-widgets/controls",
          "model_name": "FloatProgressModel",
          "model_module_version": "1.5.0",
          "state": {
            "_dom_classes": [],
            "_model_module": "@jupyter-widgets/controls",
            "_model_module_version": "1.5.0",
            "_model_name": "FloatProgressModel",
            "_view_count": null,
            "_view_module": "@jupyter-widgets/controls",
            "_view_module_version": "1.5.0",
            "_view_name": "ProgressView",
            "bar_style": "success",
            "description": "",
            "description_tooltip": null,
            "layout": "IPY_MODEL_a1a3dbe075cc4e1d9dcf9082b07480db",
            "max": 150,
            "min": 0,
            "orientation": "horizontal",
            "style": "IPY_MODEL_bf49f20d6cad4feea9576d28076ce3bc",
            "value": 150
          }
        },
        "2c71ce802a514fcbb3a84033a19ff7c1": {
          "model_module": "@jupyter-widgets/controls",
          "model_name": "HTMLModel",
          "model_module_version": "1.5.0",
          "state": {
            "_dom_classes": [],
            "_model_module": "@jupyter-widgets/controls",
            "_model_module_version": "1.5.0",
            "_model_name": "HTMLModel",
            "_view_count": null,
            "_view_module": "@jupyter-widgets/controls",
            "_view_module_version": "1.5.0",
            "_view_name": "HTMLView",
            "description": "",
            "description_tooltip": null,
            "layout": "IPY_MODEL_47441e5222344efb91830ff84e57923b",
            "placeholder": "​",
            "style": "IPY_MODEL_f0cd9133cfb842b4bc18b80b3a374409",
            "value": " 150/150 [01:00&lt;00:00,  2.40it/s]"
          }
        },
        "6d07b7f2c76b48c08ddeb65323c35373": {
          "model_module": "@jupyter-widgets/base",
          "model_name": "LayoutModel",
          "model_module_version": "1.2.0",
          "state": {
            "_model_module": "@jupyter-widgets/base",
            "_model_module_version": "1.2.0",
            "_model_name": "LayoutModel",
            "_view_count": null,
            "_view_module": "@jupyter-widgets/base",
            "_view_module_version": "1.2.0",
            "_view_name": "LayoutView",
            "align_content": null,
            "align_items": null,
            "align_self": null,
            "border": null,
            "bottom": null,
            "display": null,
            "flex": null,
            "flex_flow": null,
            "grid_area": null,
            "grid_auto_columns": null,
            "grid_auto_flow": null,
            "grid_auto_rows": null,
            "grid_column": null,
            "grid_gap": null,
            "grid_row": null,
            "grid_template_areas": null,
            "grid_template_columns": null,
            "grid_template_rows": null,
            "height": null,
            "justify_content": null,
            "justify_items": null,
            "left": null,
            "margin": null,
            "max_height": null,
            "max_width": null,
            "min_height": null,
            "min_width": null,
            "object_fit": null,
            "object_position": null,
            "order": null,
            "overflow": null,
            "overflow_x": null,
            "overflow_y": null,
            "padding": null,
            "right": null,
            "top": null,
            "visibility": null,
            "width": null
          }
        },
        "16e66ac75e744c2caca463fd4427c1ec": {
          "model_module": "@jupyter-widgets/base",
          "model_name": "LayoutModel",
          "model_module_version": "1.2.0",
          "state": {
            "_model_module": "@jupyter-widgets/base",
            "_model_module_version": "1.2.0",
            "_model_name": "LayoutModel",
            "_view_count": null,
            "_view_module": "@jupyter-widgets/base",
            "_view_module_version": "1.2.0",
            "_view_name": "LayoutView",
            "align_content": null,
            "align_items": null,
            "align_self": null,
            "border": null,
            "bottom": null,
            "display": null,
            "flex": null,
            "flex_flow": null,
            "grid_area": null,
            "grid_auto_columns": null,
            "grid_auto_flow": null,
            "grid_auto_rows": null,
            "grid_column": null,
            "grid_gap": null,
            "grid_row": null,
            "grid_template_areas": null,
            "grid_template_columns": null,
            "grid_template_rows": null,
            "height": null,
            "justify_content": null,
            "justify_items": null,
            "left": null,
            "margin": null,
            "max_height": null,
            "max_width": null,
            "min_height": null,
            "min_width": null,
            "object_fit": null,
            "object_position": null,
            "order": null,
            "overflow": null,
            "overflow_x": null,
            "overflow_y": null,
            "padding": null,
            "right": null,
            "top": null,
            "visibility": null,
            "width": null
          }
        },
        "02dbabce0c2443268de750bc6e0e8c1b": {
          "model_module": "@jupyter-widgets/controls",
          "model_name": "DescriptionStyleModel",
          "model_module_version": "1.5.0",
          "state": {
            "_model_module": "@jupyter-widgets/controls",
            "_model_module_version": "1.5.0",
            "_model_name": "DescriptionStyleModel",
            "_view_count": null,
            "_view_module": "@jupyter-widgets/base",
            "_view_module_version": "1.2.0",
            "_view_name": "StyleView",
            "description_width": ""
          }
        },
        "a1a3dbe075cc4e1d9dcf9082b07480db": {
          "model_module": "@jupyter-widgets/base",
          "model_name": "LayoutModel",
          "model_module_version": "1.2.0",
          "state": {
            "_model_module": "@jupyter-widgets/base",
            "_model_module_version": "1.2.0",
            "_model_name": "LayoutModel",
            "_view_count": null,
            "_view_module": "@jupyter-widgets/base",
            "_view_module_version": "1.2.0",
            "_view_name": "LayoutView",
            "align_content": null,
            "align_items": null,
            "align_self": null,
            "border": null,
            "bottom": null,
            "display": null,
            "flex": null,
            "flex_flow": null,
            "grid_area": null,
            "grid_auto_columns": null,
            "grid_auto_flow": null,
            "grid_auto_rows": null,
            "grid_column": null,
            "grid_gap": null,
            "grid_row": null,
            "grid_template_areas": null,
            "grid_template_columns": null,
            "grid_template_rows": null,
            "height": null,
            "justify_content": null,
            "justify_items": null,
            "left": null,
            "margin": null,
            "max_height": null,
            "max_width": null,
            "min_height": null,
            "min_width": null,
            "object_fit": null,
            "object_position": null,
            "order": null,
            "overflow": null,
            "overflow_x": null,
            "overflow_y": null,
            "padding": null,
            "right": null,
            "top": null,
            "visibility": null,
            "width": null
          }
        },
        "bf49f20d6cad4feea9576d28076ce3bc": {
          "model_module": "@jupyter-widgets/controls",
          "model_name": "ProgressStyleModel",
          "model_module_version": "1.5.0",
          "state": {
            "_model_module": "@jupyter-widgets/controls",
            "_model_module_version": "1.5.0",
            "_model_name": "ProgressStyleModel",
            "_view_count": null,
            "_view_module": "@jupyter-widgets/base",
            "_view_module_version": "1.2.0",
            "_view_name": "StyleView",
            "bar_color": null,
            "description_width": ""
          }
        },
        "47441e5222344efb91830ff84e57923b": {
          "model_module": "@jupyter-widgets/base",
          "model_name": "LayoutModel",
          "model_module_version": "1.2.0",
          "state": {
            "_model_module": "@jupyter-widgets/base",
            "_model_module_version": "1.2.0",
            "_model_name": "LayoutModel",
            "_view_count": null,
            "_view_module": "@jupyter-widgets/base",
            "_view_module_version": "1.2.0",
            "_view_name": "LayoutView",
            "align_content": null,
            "align_items": null,
            "align_self": null,
            "border": null,
            "bottom": null,
            "display": null,
            "flex": null,
            "flex_flow": null,
            "grid_area": null,
            "grid_auto_columns": null,
            "grid_auto_flow": null,
            "grid_auto_rows": null,
            "grid_column": null,
            "grid_gap": null,
            "grid_row": null,
            "grid_template_areas": null,
            "grid_template_columns": null,
            "grid_template_rows": null,
            "height": null,
            "justify_content": null,
            "justify_items": null,
            "left": null,
            "margin": null,
            "max_height": null,
            "max_width": null,
            "min_height": null,
            "min_width": null,
            "object_fit": null,
            "object_position": null,
            "order": null,
            "overflow": null,
            "overflow_x": null,
            "overflow_y": null,
            "padding": null,
            "right": null,
            "top": null,
            "visibility": null,
            "width": null
          }
        },
        "f0cd9133cfb842b4bc18b80b3a374409": {
          "model_module": "@jupyter-widgets/controls",
          "model_name": "DescriptionStyleModel",
          "model_module_version": "1.5.0",
          "state": {
            "_model_module": "@jupyter-widgets/controls",
            "_model_module_version": "1.5.0",
            "_model_name": "DescriptionStyleModel",
            "_view_count": null,
            "_view_module": "@jupyter-widgets/base",
            "_view_module_version": "1.2.0",
            "_view_name": "StyleView",
            "description_width": ""
          }
        },
        "c1d5057d925246d89f44a7d2ca472d0b": {
          "model_module": "@jupyter-widgets/controls",
          "model_name": "HBoxModel",
          "model_module_version": "1.5.0",
          "state": {
            "_dom_classes": [],
            "_model_module": "@jupyter-widgets/controls",
            "_model_module_version": "1.5.0",
            "_model_name": "HBoxModel",
            "_view_count": null,
            "_view_module": "@jupyter-widgets/controls",
            "_view_module_version": "1.5.0",
            "_view_name": "HBoxView",
            "box_style": "",
            "children": [
              "IPY_MODEL_c5aad2df628843e8808212480313fa42",
              "IPY_MODEL_6a5996c1d410457ba73c1b391e981a2b",
              "IPY_MODEL_6e894f351d914a4f8d785786d103ec77"
            ],
            "layout": "IPY_MODEL_0c4e1b4ac71c4bd3a1b6383e15bc1ac0"
          }
        },
        "c5aad2df628843e8808212480313fa42": {
          "model_module": "@jupyter-widgets/controls",
          "model_name": "HTMLModel",
          "model_module_version": "1.5.0",
          "state": {
            "_dom_classes": [],
            "_model_module": "@jupyter-widgets/controls",
            "_model_module_version": "1.5.0",
            "_model_name": "HTMLModel",
            "_view_count": null,
            "_view_module": "@jupyter-widgets/controls",
            "_view_module_version": "1.5.0",
            "_view_name": "HTMLView",
            "description": "",
            "description_tooltip": null,
            "layout": "IPY_MODEL_3ef1e99215ce405883bced0cd4d3a2b2",
            "placeholder": "​",
            "style": "IPY_MODEL_61175c33fc3448b389378b4516d797f3",
            "value": "100%"
          }
        },
        "6a5996c1d410457ba73c1b391e981a2b": {
          "model_module": "@jupyter-widgets/controls",
          "model_name": "FloatProgressModel",
          "model_module_version": "1.5.0",
          "state": {
            "_dom_classes": [],
            "_model_module": "@jupyter-widgets/controls",
            "_model_module_version": "1.5.0",
            "_model_name": "FloatProgressModel",
            "_view_count": null,
            "_view_module": "@jupyter-widgets/controls",
            "_view_module_version": "1.5.0",
            "_view_name": "ProgressView",
            "bar_style": "success",
            "description": "",
            "description_tooltip": null,
            "layout": "IPY_MODEL_4f76235898df4efe904576bda1147cf4",
            "max": 150,
            "min": 0,
            "orientation": "horizontal",
            "style": "IPY_MODEL_67077cee0a424e4ab849a50422366d08",
            "value": 150
          }
        },
        "6e894f351d914a4f8d785786d103ec77": {
          "model_module": "@jupyter-widgets/controls",
          "model_name": "HTMLModel",
          "model_module_version": "1.5.0",
          "state": {
            "_dom_classes": [],
            "_model_module": "@jupyter-widgets/controls",
            "_model_module_version": "1.5.0",
            "_model_name": "HTMLModel",
            "_view_count": null,
            "_view_module": "@jupyter-widgets/controls",
            "_view_module_version": "1.5.0",
            "_view_name": "HTMLView",
            "description": "",
            "description_tooltip": null,
            "layout": "IPY_MODEL_dafa9dc44b424247af27b760b6b50652",
            "placeholder": "​",
            "style": "IPY_MODEL_aee095691acc433d843821dc4502e0cb",
            "value": " 150/150 [00:59&lt;00:00,  2.15it/s]"
          }
        },
        "0c4e1b4ac71c4bd3a1b6383e15bc1ac0": {
          "model_module": "@jupyter-widgets/base",
          "model_name": "LayoutModel",
          "model_module_version": "1.2.0",
          "state": {
            "_model_module": "@jupyter-widgets/base",
            "_model_module_version": "1.2.0",
            "_model_name": "LayoutModel",
            "_view_count": null,
            "_view_module": "@jupyter-widgets/base",
            "_view_module_version": "1.2.0",
            "_view_name": "LayoutView",
            "align_content": null,
            "align_items": null,
            "align_self": null,
            "border": null,
            "bottom": null,
            "display": null,
            "flex": null,
            "flex_flow": null,
            "grid_area": null,
            "grid_auto_columns": null,
            "grid_auto_flow": null,
            "grid_auto_rows": null,
            "grid_column": null,
            "grid_gap": null,
            "grid_row": null,
            "grid_template_areas": null,
            "grid_template_columns": null,
            "grid_template_rows": null,
            "height": null,
            "justify_content": null,
            "justify_items": null,
            "left": null,
            "margin": null,
            "max_height": null,
            "max_width": null,
            "min_height": null,
            "min_width": null,
            "object_fit": null,
            "object_position": null,
            "order": null,
            "overflow": null,
            "overflow_x": null,
            "overflow_y": null,
            "padding": null,
            "right": null,
            "top": null,
            "visibility": null,
            "width": null
          }
        },
        "3ef1e99215ce405883bced0cd4d3a2b2": {
          "model_module": "@jupyter-widgets/base",
          "model_name": "LayoutModel",
          "model_module_version": "1.2.0",
          "state": {
            "_model_module": "@jupyter-widgets/base",
            "_model_module_version": "1.2.0",
            "_model_name": "LayoutModel",
            "_view_count": null,
            "_view_module": "@jupyter-widgets/base",
            "_view_module_version": "1.2.0",
            "_view_name": "LayoutView",
            "align_content": null,
            "align_items": null,
            "align_self": null,
            "border": null,
            "bottom": null,
            "display": null,
            "flex": null,
            "flex_flow": null,
            "grid_area": null,
            "grid_auto_columns": null,
            "grid_auto_flow": null,
            "grid_auto_rows": null,
            "grid_column": null,
            "grid_gap": null,
            "grid_row": null,
            "grid_template_areas": null,
            "grid_template_columns": null,
            "grid_template_rows": null,
            "height": null,
            "justify_content": null,
            "justify_items": null,
            "left": null,
            "margin": null,
            "max_height": null,
            "max_width": null,
            "min_height": null,
            "min_width": null,
            "object_fit": null,
            "object_position": null,
            "order": null,
            "overflow": null,
            "overflow_x": null,
            "overflow_y": null,
            "padding": null,
            "right": null,
            "top": null,
            "visibility": null,
            "width": null
          }
        },
        "61175c33fc3448b389378b4516d797f3": {
          "model_module": "@jupyter-widgets/controls",
          "model_name": "DescriptionStyleModel",
          "model_module_version": "1.5.0",
          "state": {
            "_model_module": "@jupyter-widgets/controls",
            "_model_module_version": "1.5.0",
            "_model_name": "DescriptionStyleModel",
            "_view_count": null,
            "_view_module": "@jupyter-widgets/base",
            "_view_module_version": "1.2.0",
            "_view_name": "StyleView",
            "description_width": ""
          }
        },
        "4f76235898df4efe904576bda1147cf4": {
          "model_module": "@jupyter-widgets/base",
          "model_name": "LayoutModel",
          "model_module_version": "1.2.0",
          "state": {
            "_model_module": "@jupyter-widgets/base",
            "_model_module_version": "1.2.0",
            "_model_name": "LayoutModel",
            "_view_count": null,
            "_view_module": "@jupyter-widgets/base",
            "_view_module_version": "1.2.0",
            "_view_name": "LayoutView",
            "align_content": null,
            "align_items": null,
            "align_self": null,
            "border": null,
            "bottom": null,
            "display": null,
            "flex": null,
            "flex_flow": null,
            "grid_area": null,
            "grid_auto_columns": null,
            "grid_auto_flow": null,
            "grid_auto_rows": null,
            "grid_column": null,
            "grid_gap": null,
            "grid_row": null,
            "grid_template_areas": null,
            "grid_template_columns": null,
            "grid_template_rows": null,
            "height": null,
            "justify_content": null,
            "justify_items": null,
            "left": null,
            "margin": null,
            "max_height": null,
            "max_width": null,
            "min_height": null,
            "min_width": null,
            "object_fit": null,
            "object_position": null,
            "order": null,
            "overflow": null,
            "overflow_x": null,
            "overflow_y": null,
            "padding": null,
            "right": null,
            "top": null,
            "visibility": null,
            "width": null
          }
        },
        "67077cee0a424e4ab849a50422366d08": {
          "model_module": "@jupyter-widgets/controls",
          "model_name": "ProgressStyleModel",
          "model_module_version": "1.5.0",
          "state": {
            "_model_module": "@jupyter-widgets/controls",
            "_model_module_version": "1.5.0",
            "_model_name": "ProgressStyleModel",
            "_view_count": null,
            "_view_module": "@jupyter-widgets/base",
            "_view_module_version": "1.2.0",
            "_view_name": "StyleView",
            "bar_color": null,
            "description_width": ""
          }
        },
        "dafa9dc44b424247af27b760b6b50652": {
          "model_module": "@jupyter-widgets/base",
          "model_name": "LayoutModel",
          "model_module_version": "1.2.0",
          "state": {
            "_model_module": "@jupyter-widgets/base",
            "_model_module_version": "1.2.0",
            "_model_name": "LayoutModel",
            "_view_count": null,
            "_view_module": "@jupyter-widgets/base",
            "_view_module_version": "1.2.0",
            "_view_name": "LayoutView",
            "align_content": null,
            "align_items": null,
            "align_self": null,
            "border": null,
            "bottom": null,
            "display": null,
            "flex": null,
            "flex_flow": null,
            "grid_area": null,
            "grid_auto_columns": null,
            "grid_auto_flow": null,
            "grid_auto_rows": null,
            "grid_column": null,
            "grid_gap": null,
            "grid_row": null,
            "grid_template_areas": null,
            "grid_template_columns": null,
            "grid_template_rows": null,
            "height": null,
            "justify_content": null,
            "justify_items": null,
            "left": null,
            "margin": null,
            "max_height": null,
            "max_width": null,
            "min_height": null,
            "min_width": null,
            "object_fit": null,
            "object_position": null,
            "order": null,
            "overflow": null,
            "overflow_x": null,
            "overflow_y": null,
            "padding": null,
            "right": null,
            "top": null,
            "visibility": null,
            "width": null
          }
        },
        "aee095691acc433d843821dc4502e0cb": {
          "model_module": "@jupyter-widgets/controls",
          "model_name": "DescriptionStyleModel",
          "model_module_version": "1.5.0",
          "state": {
            "_model_module": "@jupyter-widgets/controls",
            "_model_module_version": "1.5.0",
            "_model_name": "DescriptionStyleModel",
            "_view_count": null,
            "_view_module": "@jupyter-widgets/base",
            "_view_module_version": "1.2.0",
            "_view_name": "StyleView",
            "description_width": ""
          }
        },
        "e26dbd08c0fa423aa65637b22e41ae04": {
          "model_module": "@jupyter-widgets/controls",
          "model_name": "HBoxModel",
          "model_module_version": "1.5.0",
          "state": {
            "_dom_classes": [],
            "_model_module": "@jupyter-widgets/controls",
            "_model_module_version": "1.5.0",
            "_model_name": "HBoxModel",
            "_view_count": null,
            "_view_module": "@jupyter-widgets/controls",
            "_view_module_version": "1.5.0",
            "_view_name": "HBoxView",
            "box_style": "",
            "children": [
              "IPY_MODEL_51af94717cc54184a15114c77e8a570d",
              "IPY_MODEL_d54403173b314bc68ccd3967d52aab82",
              "IPY_MODEL_c45cb438fba24bf69ae1e0bca25d21c1"
            ],
            "layout": "IPY_MODEL_c473e30372f74b60a06835b51901c1b2"
          }
        },
        "51af94717cc54184a15114c77e8a570d": {
          "model_module": "@jupyter-widgets/controls",
          "model_name": "HTMLModel",
          "model_module_version": "1.5.0",
          "state": {
            "_dom_classes": [],
            "_model_module": "@jupyter-widgets/controls",
            "_model_module_version": "1.5.0",
            "_model_name": "HTMLModel",
            "_view_count": null,
            "_view_module": "@jupyter-widgets/controls",
            "_view_module_version": "1.5.0",
            "_view_name": "HTMLView",
            "description": "",
            "description_tooltip": null,
            "layout": "IPY_MODEL_47959aff24f84a8bb35e724bbce320e0",
            "placeholder": "​",
            "style": "IPY_MODEL_96b29d424b3749bf81ed4b6caff61de8",
            "value": "100%"
          }
        },
        "d54403173b314bc68ccd3967d52aab82": {
          "model_module": "@jupyter-widgets/controls",
          "model_name": "FloatProgressModel",
          "model_module_version": "1.5.0",
          "state": {
            "_dom_classes": [],
            "_model_module": "@jupyter-widgets/controls",
            "_model_module_version": "1.5.0",
            "_model_name": "FloatProgressModel",
            "_view_count": null,
            "_view_module": "@jupyter-widgets/controls",
            "_view_module_version": "1.5.0",
            "_view_name": "ProgressView",
            "bar_style": "success",
            "description": "",
            "description_tooltip": null,
            "layout": "IPY_MODEL_a9cde1cca349483eab3cc9ffc76779a1",
            "max": 10000,
            "min": 0,
            "orientation": "horizontal",
            "style": "IPY_MODEL_d354ccb986cb49429b95899e8bc8dc4d",
            "value": 10000
          }
        },
        "c45cb438fba24bf69ae1e0bca25d21c1": {
          "model_module": "@jupyter-widgets/controls",
          "model_name": "HTMLModel",
          "model_module_version": "1.5.0",
          "state": {
            "_dom_classes": [],
            "_model_module": "@jupyter-widgets/controls",
            "_model_module_version": "1.5.0",
            "_model_name": "HTMLModel",
            "_view_count": null,
            "_view_module": "@jupyter-widgets/controls",
            "_view_module_version": "1.5.0",
            "_view_name": "HTMLView",
            "description": "",
            "description_tooltip": null,
            "layout": "IPY_MODEL_bd041f265ed84f3387d277e5b07e2179",
            "placeholder": "​",
            "style": "IPY_MODEL_58b142ff39cf4c489bff2937cda35882",
            "value": " 10000/10000 [00:30&lt;00:00, 326.61it/s]"
          }
        },
        "c473e30372f74b60a06835b51901c1b2": {
          "model_module": "@jupyter-widgets/base",
          "model_name": "LayoutModel",
          "model_module_version": "1.2.0",
          "state": {
            "_model_module": "@jupyter-widgets/base",
            "_model_module_version": "1.2.0",
            "_model_name": "LayoutModel",
            "_view_count": null,
            "_view_module": "@jupyter-widgets/base",
            "_view_module_version": "1.2.0",
            "_view_name": "LayoutView",
            "align_content": null,
            "align_items": null,
            "align_self": null,
            "border": null,
            "bottom": null,
            "display": null,
            "flex": null,
            "flex_flow": null,
            "grid_area": null,
            "grid_auto_columns": null,
            "grid_auto_flow": null,
            "grid_auto_rows": null,
            "grid_column": null,
            "grid_gap": null,
            "grid_row": null,
            "grid_template_areas": null,
            "grid_template_columns": null,
            "grid_template_rows": null,
            "height": null,
            "justify_content": null,
            "justify_items": null,
            "left": null,
            "margin": null,
            "max_height": null,
            "max_width": null,
            "min_height": null,
            "min_width": null,
            "object_fit": null,
            "object_position": null,
            "order": null,
            "overflow": null,
            "overflow_x": null,
            "overflow_y": null,
            "padding": null,
            "right": null,
            "top": null,
            "visibility": null,
            "width": null
          }
        },
        "47959aff24f84a8bb35e724bbce320e0": {
          "model_module": "@jupyter-widgets/base",
          "model_name": "LayoutModel",
          "model_module_version": "1.2.0",
          "state": {
            "_model_module": "@jupyter-widgets/base",
            "_model_module_version": "1.2.0",
            "_model_name": "LayoutModel",
            "_view_count": null,
            "_view_module": "@jupyter-widgets/base",
            "_view_module_version": "1.2.0",
            "_view_name": "LayoutView",
            "align_content": null,
            "align_items": null,
            "align_self": null,
            "border": null,
            "bottom": null,
            "display": null,
            "flex": null,
            "flex_flow": null,
            "grid_area": null,
            "grid_auto_columns": null,
            "grid_auto_flow": null,
            "grid_auto_rows": null,
            "grid_column": null,
            "grid_gap": null,
            "grid_row": null,
            "grid_template_areas": null,
            "grid_template_columns": null,
            "grid_template_rows": null,
            "height": null,
            "justify_content": null,
            "justify_items": null,
            "left": null,
            "margin": null,
            "max_height": null,
            "max_width": null,
            "min_height": null,
            "min_width": null,
            "object_fit": null,
            "object_position": null,
            "order": null,
            "overflow": null,
            "overflow_x": null,
            "overflow_y": null,
            "padding": null,
            "right": null,
            "top": null,
            "visibility": null,
            "width": null
          }
        },
        "96b29d424b3749bf81ed4b6caff61de8": {
          "model_module": "@jupyter-widgets/controls",
          "model_name": "DescriptionStyleModel",
          "model_module_version": "1.5.0",
          "state": {
            "_model_module": "@jupyter-widgets/controls",
            "_model_module_version": "1.5.0",
            "_model_name": "DescriptionStyleModel",
            "_view_count": null,
            "_view_module": "@jupyter-widgets/base",
            "_view_module_version": "1.2.0",
            "_view_name": "StyleView",
            "description_width": ""
          }
        },
        "a9cde1cca349483eab3cc9ffc76779a1": {
          "model_module": "@jupyter-widgets/base",
          "model_name": "LayoutModel",
          "model_module_version": "1.2.0",
          "state": {
            "_model_module": "@jupyter-widgets/base",
            "_model_module_version": "1.2.0",
            "_model_name": "LayoutModel",
            "_view_count": null,
            "_view_module": "@jupyter-widgets/base",
            "_view_module_version": "1.2.0",
            "_view_name": "LayoutView",
            "align_content": null,
            "align_items": null,
            "align_self": null,
            "border": null,
            "bottom": null,
            "display": null,
            "flex": null,
            "flex_flow": null,
            "grid_area": null,
            "grid_auto_columns": null,
            "grid_auto_flow": null,
            "grid_auto_rows": null,
            "grid_column": null,
            "grid_gap": null,
            "grid_row": null,
            "grid_template_areas": null,
            "grid_template_columns": null,
            "grid_template_rows": null,
            "height": null,
            "justify_content": null,
            "justify_items": null,
            "left": null,
            "margin": null,
            "max_height": null,
            "max_width": null,
            "min_height": null,
            "min_width": null,
            "object_fit": null,
            "object_position": null,
            "order": null,
            "overflow": null,
            "overflow_x": null,
            "overflow_y": null,
            "padding": null,
            "right": null,
            "top": null,
            "visibility": null,
            "width": null
          }
        },
        "d354ccb986cb49429b95899e8bc8dc4d": {
          "model_module": "@jupyter-widgets/controls",
          "model_name": "ProgressStyleModel",
          "model_module_version": "1.5.0",
          "state": {
            "_model_module": "@jupyter-widgets/controls",
            "_model_module_version": "1.5.0",
            "_model_name": "ProgressStyleModel",
            "_view_count": null,
            "_view_module": "@jupyter-widgets/base",
            "_view_module_version": "1.2.0",
            "_view_name": "StyleView",
            "bar_color": null,
            "description_width": ""
          }
        },
        "bd041f265ed84f3387d277e5b07e2179": {
          "model_module": "@jupyter-widgets/base",
          "model_name": "LayoutModel",
          "model_module_version": "1.2.0",
          "state": {
            "_model_module": "@jupyter-widgets/base",
            "_model_module_version": "1.2.0",
            "_model_name": "LayoutModel",
            "_view_count": null,
            "_view_module": "@jupyter-widgets/base",
            "_view_module_version": "1.2.0",
            "_view_name": "LayoutView",
            "align_content": null,
            "align_items": null,
            "align_self": null,
            "border": null,
            "bottom": null,
            "display": null,
            "flex": null,
            "flex_flow": null,
            "grid_area": null,
            "grid_auto_columns": null,
            "grid_auto_flow": null,
            "grid_auto_rows": null,
            "grid_column": null,
            "grid_gap": null,
            "grid_row": null,
            "grid_template_areas": null,
            "grid_template_columns": null,
            "grid_template_rows": null,
            "height": null,
            "justify_content": null,
            "justify_items": null,
            "left": null,
            "margin": null,
            "max_height": null,
            "max_width": null,
            "min_height": null,
            "min_width": null,
            "object_fit": null,
            "object_position": null,
            "order": null,
            "overflow": null,
            "overflow_x": null,
            "overflow_y": null,
            "padding": null,
            "right": null,
            "top": null,
            "visibility": null,
            "width": null
          }
        },
        "58b142ff39cf4c489bff2937cda35882": {
          "model_module": "@jupyter-widgets/controls",
          "model_name": "DescriptionStyleModel",
          "model_module_version": "1.5.0",
          "state": {
            "_model_module": "@jupyter-widgets/controls",
            "_model_module_version": "1.5.0",
            "_model_name": "DescriptionStyleModel",
            "_view_count": null,
            "_view_module": "@jupyter-widgets/base",
            "_view_module_version": "1.2.0",
            "_view_name": "StyleView",
            "description_width": ""
          }
        },
        "3f7146525e524a1f94c33c95cb43ba41": {
          "model_module": "@jupyter-widgets/controls",
          "model_name": "HBoxModel",
          "model_module_version": "1.5.0",
          "state": {
            "_dom_classes": [],
            "_model_module": "@jupyter-widgets/controls",
            "_model_module_version": "1.5.0",
            "_model_name": "HBoxModel",
            "_view_count": null,
            "_view_module": "@jupyter-widgets/controls",
            "_view_module_version": "1.5.0",
            "_view_name": "HBoxView",
            "box_style": "",
            "children": [
              "IPY_MODEL_ec6664d071834776b3a735face56fc6c",
              "IPY_MODEL_045111af0dd946908812875fbd5362a7",
              "IPY_MODEL_8e71d0a16eae4eba9f32401fe75a7901"
            ],
            "layout": "IPY_MODEL_7f2fbb0cc4f843e09a2880f758323d3e"
          }
        },
        "ec6664d071834776b3a735face56fc6c": {
          "model_module": "@jupyter-widgets/controls",
          "model_name": "HTMLModel",
          "model_module_version": "1.5.0",
          "state": {
            "_dom_classes": [],
            "_model_module": "@jupyter-widgets/controls",
            "_model_module_version": "1.5.0",
            "_model_name": "HTMLModel",
            "_view_count": null,
            "_view_module": "@jupyter-widgets/controls",
            "_view_module_version": "1.5.0",
            "_view_name": "HTMLView",
            "description": "",
            "description_tooltip": null,
            "layout": "IPY_MODEL_2f1af18a9b96449580aece3f82d0e02a",
            "placeholder": "​",
            "style": "IPY_MODEL_ab44d7280e654166acc64f2ec50cc884",
            "value": "100%"
          }
        },
        "045111af0dd946908812875fbd5362a7": {
          "model_module": "@jupyter-widgets/controls",
          "model_name": "FloatProgressModel",
          "model_module_version": "1.5.0",
          "state": {
            "_dom_classes": [],
            "_model_module": "@jupyter-widgets/controls",
            "_model_module_version": "1.5.0",
            "_model_name": "FloatProgressModel",
            "_view_count": null,
            "_view_module": "@jupyter-widgets/controls",
            "_view_module_version": "1.5.0",
            "_view_name": "ProgressView",
            "bar_style": "success",
            "description": "",
            "description_tooltip": null,
            "layout": "IPY_MODEL_21ef92ce9ed74942bed8de6cf54fc1c4",
            "max": 10000,
            "min": 0,
            "orientation": "horizontal",
            "style": "IPY_MODEL_704505b830ae4ebcafc316cb40145ec5",
            "value": 10000
          }
        },
        "8e71d0a16eae4eba9f32401fe75a7901": {
          "model_module": "@jupyter-widgets/controls",
          "model_name": "HTMLModel",
          "model_module_version": "1.5.0",
          "state": {
            "_dom_classes": [],
            "_model_module": "@jupyter-widgets/controls",
            "_model_module_version": "1.5.0",
            "_model_name": "HTMLModel",
            "_view_count": null,
            "_view_module": "@jupyter-widgets/controls",
            "_view_module_version": "1.5.0",
            "_view_name": "HTMLView",
            "description": "",
            "description_tooltip": null,
            "layout": "IPY_MODEL_f95fc80cd3bf4c18a5d2c8a8e11f28a0",
            "placeholder": "​",
            "style": "IPY_MODEL_cdccf4b17f35467b9fa5b5e8f4d48e59",
            "value": " 10000/10000 [00:35&lt;00:00, 297.35it/s]"
          }
        },
        "7f2fbb0cc4f843e09a2880f758323d3e": {
          "model_module": "@jupyter-widgets/base",
          "model_name": "LayoutModel",
          "model_module_version": "1.2.0",
          "state": {
            "_model_module": "@jupyter-widgets/base",
            "_model_module_version": "1.2.0",
            "_model_name": "LayoutModel",
            "_view_count": null,
            "_view_module": "@jupyter-widgets/base",
            "_view_module_version": "1.2.0",
            "_view_name": "LayoutView",
            "align_content": null,
            "align_items": null,
            "align_self": null,
            "border": null,
            "bottom": null,
            "display": null,
            "flex": null,
            "flex_flow": null,
            "grid_area": null,
            "grid_auto_columns": null,
            "grid_auto_flow": null,
            "grid_auto_rows": null,
            "grid_column": null,
            "grid_gap": null,
            "grid_row": null,
            "grid_template_areas": null,
            "grid_template_columns": null,
            "grid_template_rows": null,
            "height": null,
            "justify_content": null,
            "justify_items": null,
            "left": null,
            "margin": null,
            "max_height": null,
            "max_width": null,
            "min_height": null,
            "min_width": null,
            "object_fit": null,
            "object_position": null,
            "order": null,
            "overflow": null,
            "overflow_x": null,
            "overflow_y": null,
            "padding": null,
            "right": null,
            "top": null,
            "visibility": null,
            "width": null
          }
        },
        "2f1af18a9b96449580aece3f82d0e02a": {
          "model_module": "@jupyter-widgets/base",
          "model_name": "LayoutModel",
          "model_module_version": "1.2.0",
          "state": {
            "_model_module": "@jupyter-widgets/base",
            "_model_module_version": "1.2.0",
            "_model_name": "LayoutModel",
            "_view_count": null,
            "_view_module": "@jupyter-widgets/base",
            "_view_module_version": "1.2.0",
            "_view_name": "LayoutView",
            "align_content": null,
            "align_items": null,
            "align_self": null,
            "border": null,
            "bottom": null,
            "display": null,
            "flex": null,
            "flex_flow": null,
            "grid_area": null,
            "grid_auto_columns": null,
            "grid_auto_flow": null,
            "grid_auto_rows": null,
            "grid_column": null,
            "grid_gap": null,
            "grid_row": null,
            "grid_template_areas": null,
            "grid_template_columns": null,
            "grid_template_rows": null,
            "height": null,
            "justify_content": null,
            "justify_items": null,
            "left": null,
            "margin": null,
            "max_height": null,
            "max_width": null,
            "min_height": null,
            "min_width": null,
            "object_fit": null,
            "object_position": null,
            "order": null,
            "overflow": null,
            "overflow_x": null,
            "overflow_y": null,
            "padding": null,
            "right": null,
            "top": null,
            "visibility": null,
            "width": null
          }
        },
        "ab44d7280e654166acc64f2ec50cc884": {
          "model_module": "@jupyter-widgets/controls",
          "model_name": "DescriptionStyleModel",
          "model_module_version": "1.5.0",
          "state": {
            "_model_module": "@jupyter-widgets/controls",
            "_model_module_version": "1.5.0",
            "_model_name": "DescriptionStyleModel",
            "_view_count": null,
            "_view_module": "@jupyter-widgets/base",
            "_view_module_version": "1.2.0",
            "_view_name": "StyleView",
            "description_width": ""
          }
        },
        "21ef92ce9ed74942bed8de6cf54fc1c4": {
          "model_module": "@jupyter-widgets/base",
          "model_name": "LayoutModel",
          "model_module_version": "1.2.0",
          "state": {
            "_model_module": "@jupyter-widgets/base",
            "_model_module_version": "1.2.0",
            "_model_name": "LayoutModel",
            "_view_count": null,
            "_view_module": "@jupyter-widgets/base",
            "_view_module_version": "1.2.0",
            "_view_name": "LayoutView",
            "align_content": null,
            "align_items": null,
            "align_self": null,
            "border": null,
            "bottom": null,
            "display": null,
            "flex": null,
            "flex_flow": null,
            "grid_area": null,
            "grid_auto_columns": null,
            "grid_auto_flow": null,
            "grid_auto_rows": null,
            "grid_column": null,
            "grid_gap": null,
            "grid_row": null,
            "grid_template_areas": null,
            "grid_template_columns": null,
            "grid_template_rows": null,
            "height": null,
            "justify_content": null,
            "justify_items": null,
            "left": null,
            "margin": null,
            "max_height": null,
            "max_width": null,
            "min_height": null,
            "min_width": null,
            "object_fit": null,
            "object_position": null,
            "order": null,
            "overflow": null,
            "overflow_x": null,
            "overflow_y": null,
            "padding": null,
            "right": null,
            "top": null,
            "visibility": null,
            "width": null
          }
        },
        "704505b830ae4ebcafc316cb40145ec5": {
          "model_module": "@jupyter-widgets/controls",
          "model_name": "ProgressStyleModel",
          "model_module_version": "1.5.0",
          "state": {
            "_model_module": "@jupyter-widgets/controls",
            "_model_module_version": "1.5.0",
            "_model_name": "ProgressStyleModel",
            "_view_count": null,
            "_view_module": "@jupyter-widgets/base",
            "_view_module_version": "1.2.0",
            "_view_name": "StyleView",
            "bar_color": null,
            "description_width": ""
          }
        },
        "f95fc80cd3bf4c18a5d2c8a8e11f28a0": {
          "model_module": "@jupyter-widgets/base",
          "model_name": "LayoutModel",
          "model_module_version": "1.2.0",
          "state": {
            "_model_module": "@jupyter-widgets/base",
            "_model_module_version": "1.2.0",
            "_model_name": "LayoutModel",
            "_view_count": null,
            "_view_module": "@jupyter-widgets/base",
            "_view_module_version": "1.2.0",
            "_view_name": "LayoutView",
            "align_content": null,
            "align_items": null,
            "align_self": null,
            "border": null,
            "bottom": null,
            "display": null,
            "flex": null,
            "flex_flow": null,
            "grid_area": null,
            "grid_auto_columns": null,
            "grid_auto_flow": null,
            "grid_auto_rows": null,
            "grid_column": null,
            "grid_gap": null,
            "grid_row": null,
            "grid_template_areas": null,
            "grid_template_columns": null,
            "grid_template_rows": null,
            "height": null,
            "justify_content": null,
            "justify_items": null,
            "left": null,
            "margin": null,
            "max_height": null,
            "max_width": null,
            "min_height": null,
            "min_width": null,
            "object_fit": null,
            "object_position": null,
            "order": null,
            "overflow": null,
            "overflow_x": null,
            "overflow_y": null,
            "padding": null,
            "right": null,
            "top": null,
            "visibility": null,
            "width": null
          }
        },
        "cdccf4b17f35467b9fa5b5e8f4d48e59": {
          "model_module": "@jupyter-widgets/controls",
          "model_name": "DescriptionStyleModel",
          "model_module_version": "1.5.0",
          "state": {
            "_model_module": "@jupyter-widgets/controls",
            "_model_module_version": "1.5.0",
            "_model_name": "DescriptionStyleModel",
            "_view_count": null,
            "_view_module": "@jupyter-widgets/base",
            "_view_module_version": "1.2.0",
            "_view_name": "StyleView",
            "description_width": ""
          }
        }
      }
    }
  },
  "nbformat": 4,
  "nbformat_minor": 0
}